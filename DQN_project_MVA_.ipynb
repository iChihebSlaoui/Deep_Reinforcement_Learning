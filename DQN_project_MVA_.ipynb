{
 "cells": [
  {
   "cell_type": "markdown",
   "metadata": {
    "colab_type": "text",
    "id": "hwbk5a_vQ5X3"
   },
   "source": [
    "**You may need to install [OpenCV](https://pypi.python.org/pypi/opencv-python) and [scikit-video](http://www.scikit-video.org/stable/).**"
   ]
  },
  {
   "cell_type": "code",
   "execution_count": 2,
   "metadata": {
    "colab": {
     "base_uri": "https://localhost:8080/",
     "height": 194
    },
    "colab_type": "code",
    "id": "eQxLDwSf2c2R",
    "outputId": "4017eca3-2a5d-4f6f-9e2e-a0de19a8b826"
   },
   "outputs": [
    {
     "name": "stdout",
     "output_type": "stream",
     "text": [
      "Collecting scikit-video\n",
      "\u001b[?25l  Downloading https://files.pythonhosted.org/packages/b1/a6/c69cad508139a342810ae46e946ebb3256aa6e42f690d901bb68f50582e3/scikit_video-1.1.11-py2.py3-none-any.whl (2.3MB)\n",
      "\u001b[K     |████████████████████████████████| 2.3MB 10.3MB/s \n",
      "\u001b[?25hRequirement already satisfied: pillow in /usr/local/lib/python3.6/dist-packages (from scikit-video) (6.2.2)\n",
      "Requirement already satisfied: scipy in /usr/local/lib/python3.6/dist-packages (from scikit-video) (1.4.1)\n",
      "Requirement already satisfied: numpy in /usr/local/lib/python3.6/dist-packages (from scikit-video) (1.17.5)\n",
      "Installing collected packages: scikit-video\n",
      "Successfully installed scikit-video-1.1.11\n",
      "Requirement already satisfied: opencv-python in /usr/local/lib/python3.6/dist-packages (4.1.2.30)\n",
      "Requirement already satisfied: numpy>=1.11.3 in /usr/local/lib/python3.6/dist-packages (from opencv-python) (1.17.5)\n"
     ]
    }
   ],
   "source": [
    "!pip install scikit-video\n",
    "!pip install opencv-python"
   ]
  },
  {
   "cell_type": "code",
   "execution_count": 3,
   "metadata": {
    "colab": {
     "base_uri": "https://localhost:8080/",
     "height": 81
    },
    "colab_type": "code",
    "id": "SGgqp5KsQ5X8",
    "outputId": "83968605-8aa9-4784-8e55-cd0973b39204"
   },
   "outputs": [
    {
     "name": "stderr",
     "output_type": "stream",
     "text": [
      "Using TensorFlow backend.\n"
     ]
    },
    {
     "data": {
      "text/html": [
       "<p style=\"color: red;\">\n",
       "The default version of TensorFlow in Colab will soon switch to TensorFlow 2.x.<br>\n",
       "We recommend you <a href=\"https://www.tensorflow.org/guide/migrate\" target=\"_blank\">upgrade</a> now \n",
       "or ensure your notebook will continue to use TensorFlow 1.x via the <code>%tensorflow_version 1.x</code> magic:\n",
       "<a href=\"https://colab.research.google.com/notebooks/tensorflow_version.ipynb\" target=\"_blank\">more info</a>.</p>\n"
      ],
      "text/plain": [
       "<IPython.core.display.HTML object>"
      ]
     },
     "metadata": {
      "tags": []
     },
     "output_type": "display_data"
    }
   ],
   "source": [
    "import keras\n",
    "import numpy as np\n",
    "import io\n",
    "import base64\n",
    "from IPython.display import HTML\n",
    "import skvideo.io\n",
    "import cv2\n",
    "import json\n",
    "\n",
    "from keras.models import Sequential,model_from_json\n",
    "from keras.layers.core import Dense, Flatten\n",
    "from keras.optimizers import sgd\n",
    "from keras.layers import Conv2D, MaxPooling2D, Activation, AveragePooling2D,Reshape,BatchNormalization\n",
    "\n",
    "import matplotlib.pyplot as plt\n",
    "import matplotlib\n",
    "matplotlib.rcParams['figure.figsize'] = [15,7]\n"
   ]
  },
  {
   "cell_type": "markdown",
   "metadata": {
    "colab_type": "text",
    "id": "spkrcmWXQ5YA"
   },
   "source": [
    "# MiniProject on Deep Reinforcement Learning"
   ]
  },
  {
   "cell_type": "markdown",
   "metadata": {
    "colab_type": "text",
    "id": "6f-7ChgjQ5YA"
   },
   "source": [
    "__Notations__: $E_p$ is the expectation under probability $p$. Please justify each of your answer and widely comment your code."
   ]
  },
  {
   "cell_type": "markdown",
   "metadata": {
    "colab_type": "text",
    "id": "94Zd1L_RQ5YB"
   },
   "source": [
    "# Context"
   ]
  },
  {
   "cell_type": "markdown",
   "metadata": {
    "colab_type": "text",
    "id": "k9Xorm47Q5YC"
   },
   "source": [
    "In a reinforcement learning algorithm, we modelize each step $t$ as an action $a_t$ obtained from a state $s_t$, i.e. $\\{(a_{t},s_{t})_{t\\leq T}\\}$ having the Markov property. We consider a discount factor $\\gamma \\in [0,1]$ that ensures convergence. The goal is to find among all the policies $\\pi$, one that maximizes the expected reward:\n",
    "\n",
    "\\begin{equation*}\n",
    "R(\\pi)=\\sum_{t\\leq T}E_{p^{\\pi}}[\\gamma^t r(s_{t},a_{t})] \\> ,\n",
    "\\end{equation*}\n",
    "\n",
    "where: \n",
    "\\begin{equation*}p^{\\pi}(a_{0},a_{1},s_{1},...,a_{T},s_{T})=p(a_{0})\\prod_{t=1}^{T}\\pi(a_{t}|s_{t})p(s_{t+1}|s_{t},a_{t}) \\> .\n",
    "\\end{equation*}\n",
    "\n",
    "We note the $Q$-function:\n",
    "\n",
    "\\begin{equation*}Q^\\pi(s,a)=E_{p^{\\pi}}[\\sum_{t\\leq T}\\gamma^{t}r(s_{t},a_{t})|s_{0}=s,a_{0}=a] \\> .\n",
    "\\end{equation*}\n",
    "\n",
    "Thus, the optimal Q function is:\n",
    "\\begin{equation*}\n",
    "Q^*(s,a)=\\max_{\\pi}Q^\\pi(s,a) \\> .\n",
    "\\end{equation*}\n",
    "\n",
    "In this project, we will apply the deep reinforcement learning techniques to a simple game: an agent will have to learn from scratch a policy that will permit it maximizing a reward."
   ]
  },
  {
   "cell_type": "markdown",
   "metadata": {
    "colab_type": "text",
    "id": "Nf1k1DEOQ5YD"
   },
   "source": [
    "## The environment, the agent and the game"
   ]
  },
  {
   "cell_type": "markdown",
   "metadata": {
    "colab_type": "text",
    "id": "lOvsQHVrQ5YE"
   },
   "source": [
    "### The environment"
   ]
  },
  {
   "cell_type": "markdown",
   "metadata": {
    "colab_type": "text",
    "id": "Df29fW5UQ5YE"
   },
   "source": [
    "```Environment``` is an abstract class that represents the states, rewards, and actions to obtain the new state."
   ]
  },
  {
   "cell_type": "code",
   "execution_count": 0,
   "metadata": {
    "colab": {},
    "colab_type": "code",
    "id": "hm0rSDlJQ5YF"
   },
   "outputs": [],
   "source": [
    "class Environment(object):\n",
    "    def __init__(self):\n",
    "        pass\n",
    "\n",
    "    def act(self, act):\n",
    "        \"\"\"\n",
    "        One can act on the environment and obtain its reaction:\n",
    "        - the new state\n",
    "        - the reward of the new state\n",
    "        - should we continue the game?\n",
    "\n",
    "        :return: state, reward, game_over\n",
    "        \"\"\"\n",
    "        pass\n",
    "\n",
    "\n",
    "    def reset(self):\n",
    "        \"\"\"\n",
    "        Reinitialize the environment to a random state and returns\n",
    "        the original state\n",
    "\n",
    "        :return: state\n",
    "        \"\"\"\n",
    "        pass\n",
    "    \n",
    "    def draw(self):\n",
    "        \"\"\"\n",
    "        Visualize in the console or graphically the current state\n",
    "        \"\"\"\n",
    "        pass"
   ]
  },
  {
   "cell_type": "markdown",
   "metadata": {
    "colab_type": "text",
    "id": "LODPVgLpQ5YH"
   },
   "source": [
    "The method ```act``` allows to act on the environment at a given state $s_t$ (stored internally), via action $a_t$. The method will return the new state $s_{t+1}$, the reward $r(s_{t},a_{t})$ and determines if $t\\leq T$ (*game_over*).\n",
    "\n",
    "The method ```reset``` simply reinitializes the environment to a random state $s_0$.\n",
    "\n",
    "The method ```draw``` displays the current state $s_t$ (this is useful to check the behavior of the Agent).\n",
    "\n",
    "We modelize $s_t$ as a tensor, while $a_t$ is an integer."
   ]
  },
  {
   "cell_type": "markdown",
   "metadata": {
    "colab_type": "text",
    "id": "HMnOBNwkQ5YI"
   },
   "source": [
    "### The Agent"
   ]
  },
  {
   "cell_type": "markdown",
   "metadata": {
    "colab_type": "text",
    "id": "0gRVI9ySQ5YL"
   },
   "source": [
    "The goal of the ```Agent``` is to interact with the ```Environment``` by proposing actions $a_t$ obtained from a given state $s_t$ to attempt to maximize its __reward__ $r(s_t,a_t)$. We propose the following abstract class:"
   ]
  },
  {
   "cell_type": "code",
   "execution_count": 0,
   "metadata": {
    "colab": {},
    "colab_type": "code",
    "id": "InjWL64QQ5YN"
   },
   "outputs": [],
   "source": [
    "class Agent(object):\n",
    "    def __init__(self, epsilon=0.1, n_action=4):\n",
    "        self.epsilon = epsilon\n",
    "        self.n_action = n_action\n",
    "    \n",
    "    def set_epsilon(self,e):\n",
    "        self.epsilon = e\n",
    "\n",
    "    def act(self,s,train=True):\n",
    "        \"\"\" This function should return the next action to do:\n",
    "        an integer between 0 and 4 (not included) with a random exploration of epsilon\"\"\"\n",
    "        if train:\n",
    "            if np.random.rand() <= self.epsilon:\n",
    "                a = np.random.randint(0, self.n_action, size=1)[0]\n",
    "            else:\n",
    "                a = self.learned_act(s)\n",
    "        else: # in some cases, this can improve the performance.. remove it if poor performances\n",
    "            a = self.learned_act(s)\n",
    "\n",
    "        return a\n",
    "\n",
    "    def learned_act(self,s):\n",
    "        \"\"\" Act via the policy of the agent, from a given state s\n",
    "        it proposes an action a\"\"\"\n",
    "        pass\n",
    "\n",
    "    def reinforce(self, s, n_s, a, r, game_over_):\n",
    "        \"\"\" This function is the core of the learning algorithm. \n",
    "        It takes as an input the current state s_, the next state n_s_\n",
    "        the action a_ used to move from s_ to n_s_ and the reward r_.\n",
    "        \n",
    "        Its goal is to learn a policy.\n",
    "        \"\"\"\n",
    "        pass\n",
    "\n",
    "    def save(self):\n",
    "        \"\"\" This function returns basic stats if applicable: the\n",
    "        loss and/or the model\"\"\"\n",
    "        pass\n",
    "\n",
    "    def load(self):\n",
    "        \"\"\" This function allows to restore a model\"\"\"\n",
    "        pass"
   ]
  },
  {
   "cell_type": "markdown",
   "metadata": {
    "colab_type": "text",
    "id": "8Qbk8alBQ5YQ"
   },
   "source": [
    "***\n",
    "__Question 1__:\n",
    "Explain the function act. Why is ```epsilon``` essential?"
   ]
  },
  {
   "cell_type": "markdown",
   "metadata": {
    "colab_type": "text",
    "id": "_ShAl1cmQ5YR"
   },
   "source": [
    "Act, as the name suggests, is a function that chooses the following act of the agent given a state. Epsilon is essential because it chooses the act with the highest reward, with a probability of 1-$\\epsilon$ while a random act has a probability of $\\epsilon$. All of this allows the agent to improve his actions-predictions of the reward for the states. "
   ]
  },
  {
   "cell_type": "markdown",
   "metadata": {
    "colab_type": "text",
    "id": "sE_cX8zkQ5YS"
   },
   "source": [
    "***\n",
    "### The Game"
   ]
  },
  {
   "cell_type": "markdown",
   "metadata": {
    "colab_type": "text",
    "id": "3Z4sajJLQ5YS"
   },
   "source": [
    "The ```Agent``` and the ```Environment``` work in an interlaced way as in the following (take some time to understand this code as it is the core of the project)\n",
    "\n",
    "```python\n",
    "\n",
    "epoch = 300\n",
    "env = Environment()\n",
    "agent = Agent()\n",
    "\n",
    "\n",
    "# Number of won games\n",
    "score = 0\n",
    "loss = 0\n",
    "\n",
    "\n",
    "for e in range(epoch):\n",
    "    # At each epoch, we restart to a fresh game and get the initial state\n",
    "    state = env.reset()\n",
    "    # This assumes that the games will end\n",
    "    game_over = False\n",
    "\n",
    "    win = 0\n",
    "    lose = 0\n",
    "    \n",
    "    while not game_over:\n",
    "        # The agent performs an action\n",
    "        action = agent.act(state)\n",
    "\n",
    "        # Apply an action to the environment, get the next state, the reward\n",
    "        # and if the games end\n",
    "        prev_state = state\n",
    "        state, reward, game_over = env.act(action)\n",
    "\n",
    "        # Update the counters\n",
    "        if reward > 0:\n",
    "            win = win + reward\n",
    "        if reward < 0:\n",
    "            lose = lose -reward\n",
    "\n",
    "        # Apply the reinforcement strategy\n",
    "        loss = agent.reinforce(prev_state, state,  action, reward, game_over)\n",
    "\n",
    "    # Save as a mp4\n",
    "    if e % 10 == 0:\n",
    "        env.draw(e)\n",
    "\n",
    "    # Update stats\n",
    "    score += win-lose\n",
    "\n",
    "    print(\"Epoch {:03d}/{:03d} | Loss {:.4f} | Win/lose count {}/{} ({})\"\n",
    "          .format(e, epoch, loss, win, lose, win-lose))\n",
    "    agent.save()\n",
    "```"
   ]
  },
  {
   "cell_type": "markdown",
   "metadata": {
    "colab_type": "text",
    "id": "K40lztnNQ5YT"
   },
   "source": [
    "# The game, *eat cheese*"
   ]
  },
  {
   "cell_type": "markdown",
   "metadata": {
    "colab_type": "text",
    "id": "PmGsLE-oQ5YT"
   },
   "source": [
    "A rat runs on an island and tries to eat as much as possible. The island is subdivided into $N\\times N$ cells, in which there are cheese (+0.5) and poisonous cells (-1). The rat has a visibility of 2 cells (thus it can see $5^2$ cells). The rat is given a time $T$ to accumulate as much food as possible. It can perform 4 actions: going up, down, left, right. \n",
    "\n",
    "The goal is to code an agent to solve this task that will learn by trial and error. We propose the following environment:"
   ]
  },
  {
   "cell_type": "code",
   "execution_count": 0,
   "metadata": {
    "colab": {},
    "colab_type": "code",
    "id": "zUBy3ib6Q5YU"
   },
   "outputs": [],
   "source": [
    "class Environment(object):\n",
    "    def __init__(self, grid_size=10, max_time=500, temperature=0.1):\n",
    "        grid_size = grid_size+4\n",
    "        self.grid_size = grid_size\n",
    "        self.max_time = max_time\n",
    "        self.temperature = temperature\n",
    "\n",
    "        #board on which one plays\n",
    "        self.board = np.zeros((grid_size,grid_size))\n",
    "        self.position = np.zeros((grid_size,grid_size))\n",
    "\n",
    "        # coordinate of the cat\n",
    "        self.x = 0\n",
    "        self.y = 1\n",
    "\n",
    "        # self time\n",
    "        self.t = 0\n",
    "\n",
    "        self.scale=16\n",
    "\n",
    "        self.to_draw = np.zeros((max_time+2, grid_size*self.scale, grid_size*self.scale, 3))\n",
    "\n",
    "\n",
    "    def draw(self,e):\n",
    "        skvideo.io.vwrite(str(e) + '.mp4', self.to_draw)\n",
    "\n",
    "    def get_frame(self,t):\n",
    "        b = np.zeros((self.grid_size,self.grid_size,3))+128\n",
    "        b[self.board>0,0] = 256\n",
    "        b[self.board < 0, 2] = 256\n",
    "        b[self.x,self.y,:]=256\n",
    "        b[-2:,:,:]=0\n",
    "        b[:,-2:,:]=0\n",
    "        b[:2,:,:]=0\n",
    "        b[:,:2,:]=0\n",
    "        \n",
    "        b =  cv2.resize(b, None, fx=self.scale, fy=self.scale, interpolation=cv2.INTER_NEAREST)\n",
    "\n",
    "        self.to_draw[t,:,:,:]=b\n",
    "\n",
    "\n",
    "    def act(self, action):\n",
    "        \"\"\"This function returns the new state, reward and decides if the\n",
    "        game ends.\"\"\"\n",
    "\n",
    "        self.get_frame(int(self.t))\n",
    "\n",
    "        self.position = np.zeros((self.grid_size, self.grid_size))\n",
    "\n",
    "        self.position[0:2,:]= -1\n",
    "        self.position[:,0:2] = -1\n",
    "        self.position[-2:, :] = -1\n",
    "        self.position[-2:, :] = -1\n",
    "\n",
    "        self.position[self.x, self.y] = 1\n",
    "        if action == 0:\n",
    "            if self.x == self.grid_size-3:\n",
    "                self.x = self.x-1\n",
    "            else:\n",
    "                self.x = self.x + 1\n",
    "        elif action == 1:\n",
    "            if self.x == 2:\n",
    "                self.x = self.x+1\n",
    "            else:\n",
    "                self.x = self.x-1\n",
    "        elif action == 2:\n",
    "            if self.y == self.grid_size - 3:\n",
    "                self.y = self.y - 1\n",
    "            else:\n",
    "                self.y = self.y + 1\n",
    "        elif action == 3:\n",
    "            if self.y == 2:\n",
    "                self.y = self.y + 1\n",
    "            else:\n",
    "                self.y = self.y - 1\n",
    "        else:\n",
    "            RuntimeError('Error: action not recognized')\n",
    "\n",
    "        self.t = self.t + 1\n",
    "        reward = self.board[self.x, self.y]\n",
    "        self.board[self.x, self.y] = 0\n",
    "        game_over = self.t > self.max_time\n",
    "        state = np.concatenate((self.board.reshape(self.grid_size, self.grid_size,1),\n",
    "                        self.position.reshape(self.grid_size, self.grid_size,1)),axis=2)\n",
    "        state = state[self.x-2:self.x+3,self.y-2:self.y+3,:]\n",
    "\n",
    "        return state, reward, game_over\n",
    "\n",
    "    def reset(self):\n",
    "        \"\"\"This function resets the game and returns the initial state\"\"\"\n",
    "\n",
    "        self.x = np.random.randint(3, self.grid_size-3, size=1)[0]\n",
    "        self.y = np.random.randint(3, self.grid_size-3, size=1)[0]\n",
    "\n",
    "\n",
    "        bonus = 0.5*np.random.binomial(1,self.temperature,size=self.grid_size**2)\n",
    "        bonus = bonus.reshape(self.grid_size,self.grid_size)\n",
    "\n",
    "        malus = -1.0*np.random.binomial(1,self.temperature,size=self.grid_size**2)\n",
    "        malus = malus.reshape(self.grid_size, self.grid_size)\n",
    "\n",
    "        self.to_draw = np.zeros((self.max_time+2, self.grid_size*self.scale, self.grid_size*self.scale, 3))\n",
    "\n",
    "\n",
    "        malus[bonus>0]=0\n",
    "\n",
    "        self.board = bonus + malus\n",
    "\n",
    "        self.position = np.zeros((self.grid_size, self.grid_size))\n",
    "        self.position[0:2,:]= -1\n",
    "        self.position[:,0:2] = -1\n",
    "        self.position[-2:, :] = -1\n",
    "        self.position[-2:, :] = -1\n",
    "        self.board[self.x,self.y] = 0\n",
    "        self.t = 0\n",
    "\n",
    "        state = np.concatenate((\n",
    "                               self.board.reshape(self.grid_size, self.grid_size,1),\n",
    "                        self.position.reshape(self.grid_size, self.grid_size,1)),axis=2)\n",
    "\n",
    "        state = state[self.x - 2:self.x + 3, self.y - 2:self.y + 3, :]\n",
    "        return state"
   ]
  },
  {
   "cell_type": "markdown",
   "metadata": {
    "colab_type": "text",
    "id": "TTDZjFq1Q5YW"
   },
   "source": [
    "The following elements are important because they correspond to the hyper parameters for this project:"
   ]
  },
  {
   "cell_type": "code",
   "execution_count": 0,
   "metadata": {
    "colab": {},
    "colab_type": "code",
    "id": "Eap7odA5Q5YX"
   },
   "outputs": [],
   "source": [
    "# parameters\n",
    "size = 13\n",
    "T=200\n",
    "temperature=0.3\n",
    "epochs_train=30 # set small when debugging\n",
    "epochs_test=10 # set small when debugging\n",
    "\n",
    "# display videos\n",
    "def display_videos(name):\n",
    "    video = io.open(name, 'r+b').read()\n",
    "    encoded = base64.b64encode(video)\n",
    "    return '''<video alt=\"test\" controls>\n",
    "                <source src=\"data:video/mp4;base64,{0}\" type=\"video/mp4\" />\n",
    "             </video>'''.format(encoded.decode('ascii'))"
   ]
  },
  {
   "cell_type": "markdown",
   "metadata": {
    "colab_type": "text",
    "id": "EsvsNgPLQ5Yc"
   },
   "source": [
    "__Question 2__ Explain the use of the arrays ```position``` and ```board```."
   ]
  },
  {
   "cell_type": "markdown",
   "metadata": {
    "colab_type": "text",
    "id": "NX5xCFEVQ5Yd"
   },
   "source": [
    "```position```: It's a matrix of size n by n that specifies and updates after an action the position of the rat (with 1), positions that he can reach (with 0) and the rest of boxes (with -1). \n",
    "\n",
    "```board``` : It's a matrix of size n by n that specifies the reward of each box, being 0.5 for cheese, -1 for poisonous boxes and 0 for the empty boxes."
   ]
  },
  {
   "cell_type": "markdown",
   "metadata": {
    "colab_type": "text",
    "id": "Fe1OL-xeQ5Ye"
   },
   "source": [
    "## Random Agent"
   ]
  },
  {
   "cell_type": "markdown",
   "metadata": {
    "colab_type": "text",
    "id": "fqFuGAwDQ5Ye"
   },
   "source": [
    "***\n",
    "__Question 3__ Implement a random Agent (only ```learned_act``` needs to be implemented):"
   ]
  },
  {
   "cell_type": "code",
   "execution_count": 0,
   "metadata": {
    "colab": {},
    "colab_type": "code",
    "id": "CStSyklUQ5Yf"
   },
   "outputs": [],
   "source": [
    "class RandomAgent(Agent):\n",
    "    def __init__(self):\n",
    "        super(RandomAgent, self).__init__()\n",
    "        pass\n",
    "\n",
    "    def learned_act(self, s):\n",
    "\n",
    "        a = np.random.randint(0, self.n_action, size=1)[0]\n",
    "\n",
    "        return a"
   ]
  },
  {
   "cell_type": "markdown",
   "metadata": {
    "colab_type": "text",
    "id": "bpkCu4N1Q5Yi"
   },
   "source": [
    "***\n",
    "***\n",
    "__Question 4__ Visualize the game moves. You need to fill in the following function for the evaluation:"
   ]
  },
  {
   "cell_type": "code",
   "execution_count": 0,
   "metadata": {
    "colab": {},
    "colab_type": "code",
    "id": "802bfarmQ5Yi"
   },
   "outputs": [],
   "source": [
    "def test(agent,env,epochs,prefix='', verbose=True):\n",
    "    # Number of won games\n",
    "    score = 0\n",
    "        \n",
    "    for e in range(epochs):\n",
    "        \n",
    "        ##### FILL IN HERE\n",
    "\n",
    "        state = env.reset()\n",
    "\n",
    "        win = 0\n",
    "        lose = 0\n",
    "\n",
    "        while env.t < T :\n",
    "\n",
    "          action = agent.learned_act(state)\n",
    "\n",
    "          prev_state = state\n",
    "          state, reward, game_over = env.act(action)\n",
    "\n",
    "          if reward > 0:\n",
    "            win = win + reward\n",
    "          if reward < 0:\n",
    "            lose = lose -reward\n",
    "\n",
    "        #####\n",
    "        \n",
    "        # Save as a mp4\n",
    "        env.draw(prefix+str(e))\n",
    "\n",
    "        # Update stats\n",
    "        score = score + win-lose\n",
    "        if verbose : \n",
    "          print(\"Win/lose count {}/{}. Average score ({})\"\n",
    "                .format(win, lose, score/(1+e)))\n",
    "    print('Final score: '+str(score/epochs))"
   ]
  },
  {
   "cell_type": "code",
   "execution_count": 0,
   "metadata": {
    "colab": {
     "base_uri": "https://localhost:8080/",
     "height": 328
    },
    "colab_type": "code",
    "id": "OfgfNX0XQ5Yl",
    "outputId": "a893211a-7ad8-4ee9-a340-4e6a0ede77f6"
   },
   "outputs": [
    {
     "name": "stdout",
     "output_type": "stream",
     "text": [
      "Win/lose count 9.0/20.0. Average score (-11.0)\n",
      "Final score: -11.0\n"
     ]
    },
    {
     "data": {
      "text/html": [
       "<video alt=\"test\" controls>\n",
       "                <source src=\"data:video/mp4;base64,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\" type=\"video/mp4\" />\n",
       "             </video>"
      ],
      "text/plain": [
       "<IPython.core.display.HTML object>"
      ]
     },
     "execution_count": 31,
     "metadata": {
      "tags": []
     },
     "output_type": "execute_result"
    }
   ],
   "source": [
    "# Initialize the game\n",
    "env = Environment(grid_size=size, max_time=T,temperature=temperature)\n",
    "\n",
    "# Initialize the agent!\n",
    "agent_rdm = RandomAgent()\n",
    "\n",
    "test(agent_rdm,env,1,prefix='random')\n",
    "HTML(display_videos('random0.mp4'))"
   ]
  },
  {
   "cell_type": "markdown",
   "metadata": {
    "colab_type": "text",
    "id": "9ZGEeDLaQ5Yn"
   },
   "source": [
    "***\n",
    "## DQN"
   ]
  },
  {
   "cell_type": "markdown",
   "metadata": {
    "colab_type": "text",
    "id": "TqmphsfxQ5Yn"
   },
   "source": [
    "Let us assume here that $T=\\infty$.\n",
    "\n",
    "***\n",
    "__Question 5__ Let $\\pi$ be a policy, show that:\n",
    "\n",
    "\\begin{equation*}\n",
    "Q^{\\pi}(s,a)=E_{(s',a')\\sim p(.|s,a)}[r(s,a)+\\gamma Q^{\\pi}(s',a')]\n",
    "\\end{equation*}\n",
    "\n",
    "\n",
    "----\n",
    "\n",
    "In the discounted inifinite case, the expression fot the $Q$ function is :\n",
    "\n",
    "\\begin{equation*}Q^\\pi(s,a)=E_{(s',a')\\sim p^{\\pi}(.|s,a)}[\\sum_{t=0}^{\\infty}\\gamma^{t}r(s_{t},a_{t})|s_{0}=s,a_{0}=a]\n",
    "\\end{equation*}\n",
    "\n",
    "Because of the Markov property, we can write : \n",
    "\\begin{equation*}\n",
    "= r(s,a) + \\gamma \\sum_{s'}\\sum_{a'}p^{\\pi}(s',a'|s,a)[\\sum_{t=1}^{\\infty}\\gamma^{t-1}r(s_{t},a_{t})|s_{1}=s',a_{1}=a'] \\> \n",
    "\\end{equation*}\n",
    "\n",
    "\\begin{equation*}\n",
    "= r(s,a) + \\gamma \\sum_{s'}\\sum_{a'}p^{\\pi}(s',a'|s,a)[\\sum_{t'=0}^{\\infty}\\gamma^{t'}r(s_{t'},a_{t'})|s_{0}=s',a_{0}=a'] \\> \n",
    "\\end{equation*}\n",
    "\n",
    "\\begin{equation*}\n",
    "= r(s,a) + \\gamma \\sum_{s'}\\sum_{a'}p^{\\pi}(s',a'|s,a) Q^{\\pi}(s',a')\\> \n",
    "\\end{equation*}\n",
    "\n",
    "\\begin{equation*}\n",
    "= E_{(s',a')\\sim p^{\\pi}(.|s,a)}[r(s,a)+\\gamma Q^{\\pi}(s',a')])\\> \n",
    "\\end{equation*}\n",
    "\n",
    "\n",
    "\n",
    "----\n",
    "\n",
    "Then, show that for the optimal policy $\\pi^*$ (we assume its existence), the following holds: \n",
    "\n",
    "\\begin{equation*}\n",
    "Q^{*}(s,a)=E_{s'\\sim \\pi^*(.|s,a)}[r(s,a)+\\gamma\\max_{a'}Q^{*}(s',a')].\n",
    "\\end{equation*}\n",
    "\n",
    "The optimal $Q$ function is defined as : \n",
    "\n",
    "\\begin{equation*}\n",
    "Q^*(s,a)=\\max_{\\pi}Q^\\pi(s,a) \\> .\n",
    "\\end{equation*}\n",
    "\n",
    "\\begin{equation*}\n",
    "Q^*(s,a)=Q^{\\pi^{*}}(s,a) \\> .\n",
    "\\end{equation*}\n",
    "\n",
    "$$=E_{(s',a')\\sim {\\pi*}(.|s,a)}[r(s,a)+\\gamma Q^{\\pi^{*}}(s',\\pi^*(s'))]$$\n",
    "\n",
    "\n",
    "$$=E_{s'\\sim \\pi^*(.|s,a)}[r(s,a)+\\gamma \\max_{a'} Q^{\\pi^{*}}(s',a')]$$\n",
    "\n",
    "----\n",
    "\n",
    "Finally, deduce that a plausible objective is:\n",
    "\n",
    "\\begin{equation*}\n",
    "\\mathcal{L}(\\theta)=E_{s' \\sim \\pi^*(.|s,a)}\\Vert r+\\gamma\\max\\max_{a'}Q(s',a',\\theta)-Q(s,a,\\theta)\\Vert^{2}.\n",
    "\\end{equation*}\n",
    "\n",
    "The optimale $Q$ function is the only function that satisfies the Bellmann equation. Threfore, we want to fin the $\\theta$ so that the difference :\n",
    "$$r(s,a)+\\gamma\\max_{a'}Q^{*}(s',a')-Q^{*}(s,a)$$\n",
    "is minimal (ideally 0) on average with respect to $p^{\\pi^*}$. \n",
    "If $Q$ is $\\theta$-parametrized, then minimising $\\mathcal{L}(\\theta)$ will make $Q_\\theta$ converge to $Q^*$, with :\n",
    "\\begin{equation*}\n",
    "\\mathcal{L}(\\theta)=E_{s' \\sim \\pi^*(.|s,a)}\\Vert r+\\gamma\\max_{a'}Q(s',a',\\theta)-Q(s,a,\\theta)\\Vert^{2}.\n",
    "\\end{equation*}\n",
    "\n"
   ]
  },
  {
   "cell_type": "markdown",
   "metadata": {
    "colab_type": "text",
    "id": "PzfAaedFQ5Yo"
   },
   "source": [
    "***\n",
    "The DQN-learning algorithm relies on these derivations to train the parameters $\\theta$ of a Deep Neural Network:\n",
    "\n",
    "1. At the state $s_t$, select the action $a_t$ with best reward using $Q_t$ and store the results;\n",
    "\n",
    "2. Obtain the new state $s_{t+1}$ from the environment $p$;\n",
    "\n",
    "3. Store $(s_t,a_t,s_{t+1})$;\n",
    "\n",
    "4. Obtain $Q_{t+1}$ by minimizing  $\\mathcal{L}$ from a recovered batch from the previously stored results.\n",
    "\n",
    "***\n",
    "__Question 6__ Implement the class ```Memory``` that stores moves (in a replay buffer) via ```remember``` and provides a ```random_access``` to these. Specify a maximum memory size to avoid side effects. You can for example use a ```list()``` and set by default ```max_memory=100```."
   ]
  },
  {
   "cell_type": "code",
   "execution_count": 0,
   "metadata": {
    "colab": {},
    "colab_type": "code",
    "id": "68RGpZKNQ5Yp"
   },
   "outputs": [],
   "source": [
    "class Memory(object):\n",
    "    def __init__(self, max_memory=100):\n",
    "        self.max_memory = max_memory\n",
    "        self.memory = list()\n",
    "\n",
    "    def remember(self, m):\n",
    "        if len(self.memory) == self.max_memory :\n",
    "          self.memory = self.memory[1:]+[m]\n",
    "        else :\n",
    "          self.memory.append(m)\n",
    "\n",
    "    def random_access(self):\n",
    "        rdn_id = np.random.randint(len(self.memory))\n",
    "        m = self.memory[rdn_id]\n",
    "        return m"
   ]
  },
  {
   "cell_type": "markdown",
   "metadata": {
    "colab_type": "text",
    "id": "-V_bH5a_Q5Yu"
   },
   "source": [
    "***\n",
    "The pipeline we will use for training is given below:"
   ]
  },
  {
   "cell_type": "code",
   "execution_count": 0,
   "metadata": {
    "colab": {},
    "colab_type": "code",
    "id": "Kv5F3OiQQ5Yu"
   },
   "outputs": [],
   "source": [
    "def train(agent,env,epoch,prefix='',verbose=True,plot=False):\n",
    "    # Number of won games\n",
    "    score = 0\n",
    "    loss = 0\n",
    "    scores, wins, losses = [], [], []\n",
    "\n",
    "    for e in range(epoch):\n",
    "        # At each epoch, we restart to a fresh game and get the initial state\n",
    "        state = env.reset()\n",
    "        # This assumes that the games will terminate\n",
    "        game_over = False\n",
    "\n",
    "        win = 0\n",
    "        lose = 0\n",
    "\n",
    "        while not game_over:\n",
    "            # The agent performs an action\n",
    "            action = agent.act(state)\n",
    "\n",
    "            # Apply an action to the environment, get the next state, the reward\n",
    "            # and if the games end\n",
    "            prev_state = state\n",
    "            state, reward, game_over = env.act(action)\n",
    "\n",
    "            # Update the counters\n",
    "            if reward > 0:\n",
    "                win = win + reward\n",
    "            if reward < 0:\n",
    "                lose = lose -reward\n",
    "\n",
    "            # Apply the reinforcement strategy\n",
    "            loss = agent.reinforce(prev_state, state,  action, reward, game_over)\n",
    "\n",
    "        # Save as a mp4\n",
    "        if e % 10 == 0:\n",
    "            env.draw(prefix+str(e))\n",
    "\n",
    "        # Update stats\n",
    "        score += win-lose\n",
    "        scores.append(score)\n",
    "        wins.append(win)\n",
    "        losses.append(lose)\n",
    "\n",
    "        if verbose : \n",
    "          print(\"Epoch {:03d}/{:03d} | Loss {:.4f} | Win/lose count {}/{} ({})\"\n",
    "                .format(e, epoch, loss, win, lose, win-lose))\n",
    "        agent.save(name_weights=prefix+'model.h5',name_model=prefix+'model.json')\n",
    "\n",
    "    if plot : \n",
    "      plt.plot(wins, label=\"wins\")\n",
    "      plt.plot(losses, label=\"losses\")\n",
    "      plt.xlabel(\"Epoch\")\n",
    "      plt.legend()\n",
    "      plt.grid()\n"
   ]
  },
  {
   "cell_type": "markdown",
   "metadata": {
    "colab_type": "text",
    "id": "atBcw9SgQ5Yx"
   },
   "source": [
    "***\n",
    "__Question 7__ Implement the DQN training algorithm using a cascade of fully connected layers. You can use different learning rate, batch size or memory size parameters. In particular, the loss might oscillate while the player will start to win the games. You have to find a good criterium.\n",
    "\n",
    "***\n",
    "***\n",
    "\n",
    "We trained the model for 50 epochs and for different sets of parameters, and used the average score over 10 epochs on the test phase to evaluate it."
   ]
  },
  {
   "cell_type": "code",
   "execution_count": 0,
   "metadata": {
    "colab": {},
    "colab_type": "code",
    "id": "0nzbL93QQ5Yy"
   },
   "outputs": [],
   "source": [
    "class DQN(Agent):\n",
    "    def __init__(self, grid_size,  epsilon = 0.1, memory_size=100, batch_size = 16,n_state=2):\n",
    "        super(DQN, self).__init__(epsilon = epsilon)\n",
    "\n",
    "        # Discount for Q learning\n",
    "        self.discount = 0.99\n",
    "        \n",
    "        self.grid_size = grid_size\n",
    "        \n",
    "        # number of state\n",
    "        self.n_state = n_state\n",
    "\n",
    "        # Memory\n",
    "        self.memory = Memory(memory_size)\n",
    "        \n",
    "        # Batch size when learning\n",
    "        self.batch_size = batch_size\n",
    "        \n",
    "\n",
    "    def learned_act(self, s):\n",
    "        return np.argmax(self.model.predict(np.expand_dims(s, 0)))\n",
    "\n",
    "    def reinforce(self, s_, n_s_, a_, r_, game_over_):\n",
    "        # Two steps: first memorize the states, second learn from the pool\n",
    "\n",
    "        self.memory.remember([s_, n_s_, a_, r_, game_over_])\n",
    "        \n",
    "        input_states = np.zeros((self.batch_size, 5,5,self.n_state))\n",
    "        target_q = np.zeros((self.batch_size, 4))\n",
    "        \n",
    "        for i in range(self.batch_size):\n",
    "\n",
    "            s_, n_s_, a_, r_, game_over_ = self.memory.random_access()\n",
    "            input_states[i] = s_ \n",
    "\n",
    "            # We only take into account the states and actions where we have new information. \n",
    "            # In the others, the target is the input, and they do not impact the gradient, thus the update of theta.\n",
    "            target_q[i] =self.model.predict(np.expand_dims(s_, axis = 0))\n",
    "            \n",
    "            if game_over_:\n",
    "                target_q[i,a_] = r_\n",
    "            else:\n",
    "                target_q[i,a_] = r_ + self.discount * np.max(self.model.predict(np.expand_dims(n_s_, axis = 0)))\n",
    "\n",
    "        # HINT: Clip the target to avoid exploiding gradients.. -- clipping is a bit tighter\n",
    "        target_q = np.clip(target_q, -3, 3)\n",
    "\n",
    "        l = self.model.train_on_batch(input_states, target_q)\n",
    "\n",
    "        return l\n",
    "\n",
    "    def save(self,name_weights='model.h5',name_model='model.json'):\n",
    "        self.model.save_weights(name_weights, overwrite=True)\n",
    "        with open(name_model, \"w\") as outfile:\n",
    "            json.dump(self.model.to_json(), outfile)\n",
    "            \n",
    "    def load(self,name_weights='model.h5',name_model='model.json'):\n",
    "        with open(name_model, \"r\") as jfile:\n",
    "            model = model_from_json(json.load(jfile))\n",
    "        model.load_weights(name_weights)\n",
    "        model.compile(\"sgd\", \"mse\")\n",
    "        self.model = model\n",
    "\n",
    "            \n",
    "class DQN_FC(DQN):\n",
    "    def __init__(self, *args, lr=0.1,**kwargs):\n",
    "        super(DQN_FC, self).__init__( *args,**kwargs)\n",
    "        \n",
    "        # NN Model\n",
    "        model = Sequential()\n",
    "        model.add(Dense(50, input_shape=(5, 5, self.n_state), activation='relu'))\n",
    "        model.add(Dense(25, activation = \"relu\"))\n",
    "        model.add(Flatten())\n",
    "        model.add(Dense(4))\n",
    "        \n",
    "        model.compile(sgd(lr=lr, decay=1e-4, momentum=0.0), \"mse\")\n",
    "        self.model = model\n",
    "        "
   ]
  },
  {
   "cell_type": "code",
   "execution_count": 0,
   "metadata": {
    "colab": {},
    "colab_type": "code",
    "id": "STG-ToGPEjbw"
   },
   "outputs": [],
   "source": [
    "env = Environment(grid_size=size, max_time=T, temperature=0.3)\n",
    "agent = DQN_FC(size, lr=.1, epsilon = 0.1, memory_size=2000, batch_size = 32)\n",
    "train(agent, env, 50, prefix='fc_train', verbose=False)\n",
    "test(agent,env,10,prefix='fc_test', verbose = False)"
   ]
  },
  {
   "cell_type": "markdown",
   "metadata": {
    "colab_type": "text",
    "id": "KqGGO7SqESzJ"
   },
   "source": [
    "#### Neural Structure"
   ]
  },
  {
   "cell_type": "markdown",
   "metadata": {
    "colab_type": "text",
    "id": "6jNwHyMYEWs7"
   },
   "source": [
    "##### A small model - 3.95\n",
    "\n"
   ]
  },
  {
   "cell_type": "code",
   "execution_count": 0,
   "metadata": {
    "colab": {},
    "colab_type": "code",
    "id": "7P9ZCl_1EuHK"
   },
   "outputs": [],
   "source": [
    "class DQN_FC(DQN):\n",
    "    def __init__(self, *args, lr=0.1,**kwargs):\n",
    "        super(DQN_FC, self).__init__( *args,**kwargs)\n",
    "        \n",
    "        # NN Model\n",
    "        model = Sequential()\n",
    "        model.add(Dense(32, input_shape=(5, 5, self.n_state), activation='relu'))\n",
    "        model.add(Dense(16, activation = \"relu\"))\n",
    "        model.add(Flatten())\n",
    "        model.add(Dense(4))\n",
    "        \n",
    "        model.compile(sgd(lr=lr, decay=1e-4, momentum=0.0), \"mse\")\n",
    "        self.model = model"
   ]
  },
  {
   "cell_type": "code",
   "execution_count": 0,
   "metadata": {
    "colab": {
     "base_uri": "https://localhost:8080/",
     "height": 35
    },
    "colab_type": "code",
    "id": "JZKIjUi2FJ8f",
    "outputId": "3bcab419-8ea8-46aa-cbfb-eec094f342f4"
   },
   "outputs": [
    {
     "name": "stdout",
     "output_type": "stream",
     "text": [
      "Final score: 3.95\n"
     ]
    }
   ],
   "source": [
    "env = Environment(grid_size=size, max_time=T, temperature=0.3)\n",
    "agent = DQN_FC(size, lr=.1, epsilon = 0.1, memory_size=2000, batch_size = 32)\n",
    "train(agent, env, 50, prefix='fc_train', verbose=False)\n",
    "test(agent,env,10,prefix='fc_test', verbose = False)"
   ]
  },
  {
   "cell_type": "markdown",
   "metadata": {
    "colab_type": "text",
    "id": "sBGETw1uSIfO"
   },
   "source": [
    "##### A medium model (1) - 6.65"
   ]
  },
  {
   "cell_type": "code",
   "execution_count": 0,
   "metadata": {
    "colab": {},
    "colab_type": "code",
    "id": "y2Zln7CHSIfR"
   },
   "outputs": [],
   "source": [
    "class DQN_FC(DQN):\n",
    "    def __init__(self, *args, lr=0.1,**kwargs):\n",
    "        super(DQN_FC, self).__init__( *args,**kwargs)\n",
    "        \n",
    "        # NN Model\n",
    "        model = Sequential()\n",
    "        model.add(Dense(64, input_shape=(5, 5, self.n_state), activation='relu'))\n",
    "        model.add(Dense(32, activation = \"relu\"))\n",
    "        model.add(Flatten())\n",
    "        model.add(Dense(4))\n",
    "        \n",
    "        model.compile(sgd(lr=lr, decay=1e-4, momentum=0.0), \"mse\")\n",
    "        self.model = model"
   ]
  },
  {
   "cell_type": "code",
   "execution_count": 0,
   "metadata": {
    "colab": {
     "base_uri": "https://localhost:8080/",
     "height": 35
    },
    "colab_type": "code",
    "id": "ubRyb_asSIfU",
    "outputId": "c2521466-b2c4-4ab5-a694-74a70010be3e"
   },
   "outputs": [
    {
     "name": "stdout",
     "output_type": "stream",
     "text": [
      "Final score: 6.65\n"
     ]
    }
   ],
   "source": [
    "env = Environment(grid_size=size, max_time=T, temperature=0.3)\n",
    "agent = DQN_FC(size, lr=.1, epsilon = 0.1, memory_size=2000, batch_size = 32)\n",
    "train(agent, env, 50, prefix='fc_train', verbose=False)\n",
    "test(agent,env,10,prefix='fc_test', verbose = False)"
   ]
  },
  {
   "cell_type": "markdown",
   "metadata": {
    "colab_type": "text",
    "id": "tJkM2_nvSQQ_"
   },
   "source": [
    "##### A medium model (2) - 5.9"
   ]
  },
  {
   "cell_type": "code",
   "execution_count": 0,
   "metadata": {
    "colab": {},
    "colab_type": "code",
    "id": "18VOwJAAFMJJ"
   },
   "outputs": [],
   "source": [
    "class DQN_FC(DQN):\n",
    "    def __init__(self, *args, lr=0.1,**kwargs):\n",
    "        super(DQN_FC, self).__init__( *args,**kwargs)\n",
    "        \n",
    "        # NN Model\n",
    "        model = Sequential()\n",
    "        model.add(Dense(128, input_shape=(5, 5, self.n_state), activation='relu'))\n",
    "        model.add(Dense(32, activation = \"relu\"))\n",
    "        model.add(Flatten())\n",
    "        model.add(Dense(4))\n",
    "        \n",
    "        model.compile(sgd(lr=lr, decay=1e-4, momentum=0.0), \"mse\")\n",
    "        self.model = model"
   ]
  },
  {
   "cell_type": "code",
   "execution_count": 0,
   "metadata": {
    "colab": {
     "base_uri": "https://localhost:8080/",
     "height": 35
    },
    "colab_type": "code",
    "id": "uiVtUF-kFNGd",
    "outputId": "45d732b4-55b6-4685-b406-dbf5172cc42c"
   },
   "outputs": [
    {
     "name": "stdout",
     "output_type": "stream",
     "text": [
      "Final score: 5.9\n"
     ]
    }
   ],
   "source": [
    "env = Environment(grid_size=size, max_time=T, temperature=0.3)\n",
    "agent = DQN_FC(size, lr=.1, epsilon = 0.1, memory_size=2000, batch_size = 32)\n",
    "train(agent, env, 50, prefix='fc_train', verbose=False)\n",
    "test(agent,env,10,prefix='fc_test', verbose = False)"
   ]
  },
  {
   "cell_type": "markdown",
   "metadata": {
    "colab_type": "text",
    "id": "Ec-F3-GEPEjR"
   },
   "source": [
    "##### A bigger model : 5.8"
   ]
  },
  {
   "cell_type": "code",
   "execution_count": 0,
   "metadata": {
    "colab": {},
    "colab_type": "code",
    "id": "KQfex7gmLLxE"
   },
   "outputs": [],
   "source": [
    "class DQN_FC(DQN):\n",
    "    def __init__(self, *args, lr=0.1,**kwargs):\n",
    "        super(DQN_FC, self).__init__( *args,**kwargs)\n",
    "        \n",
    "        # NN Model\n",
    "        model = Sequential()\n",
    "        model.add(Dense(256, input_shape=(5, 5, self.n_state), activation='relu'))\n",
    "        model.add(Dense(128, activation = \"relu\"))\n",
    "        model.add(Dense(32, activation = \"relu\"))\n",
    "        model.add(Flatten())\n",
    "        model.add(Dense(4))\n",
    "        \n",
    "        model.compile(sgd(lr=lr, decay=1e-4, momentum=0.0), \"mse\")\n",
    "        self.model = model"
   ]
  },
  {
   "cell_type": "code",
   "execution_count": 0,
   "metadata": {
    "colab": {
     "base_uri": "https://localhost:8080/",
     "height": 35
    },
    "colab_type": "code",
    "id": "gxo1vhcULTEw",
    "outputId": "11a256b1-574e-4c09-e741-1b8fe1127711"
   },
   "outputs": [
    {
     "name": "stdout",
     "output_type": "stream",
     "text": [
      "Final score: 5.8\n"
     ]
    }
   ],
   "source": [
    "env = Environment(grid_size=size, max_time=T, temperature=0.3)\n",
    "agent = DQN_FC(size, lr=.1, epsilon = 0.1, memory_size=2000, batch_size = 32)\n",
    "train(agent, env, 50, prefix='fc_train', verbose=False)\n",
    "test(agent,env,10,prefix='fc_test', verbose = False)"
   ]
  },
  {
   "cell_type": "markdown",
   "metadata": {
    "colab_type": "text",
    "id": "ni6p-iAbDdsC"
   },
   "source": [
    "#### batch_size"
   ]
  },
  {
   "cell_type": "code",
   "execution_count": 0,
   "metadata": {
    "colab": {},
    "colab_type": "code",
    "id": "d8zJ82-3F3Kc"
   },
   "outputs": [],
   "source": [
    "class DQN_FC(DQN):\n",
    "    def __init__(self, *args, lr=0.1,**kwargs):\n",
    "        super(DQN_FC, self).__init__( *args,**kwargs)\n",
    "        \n",
    "        # NN Model\n",
    "        model = Sequential()\n",
    "        model.add(Dense(64, input_shape=(5, 5, self.n_state), activation='relu'))\n",
    "        model.add(Dense(32, activation = \"relu\"))\n",
    "        model.add(Flatten())\n",
    "        model.add(Dense(4))\n",
    "        \n",
    "        model.compile(sgd(lr=lr, decay=1e-4, momentum=0.0), \"mse\")\n",
    "        self.model = model"
   ]
  },
  {
   "cell_type": "code",
   "execution_count": 0,
   "metadata": {
    "colab": {
     "base_uri": "https://localhost:8080/"
    },
    "colab_type": "code",
    "id": "DRwe6bnxF8bj",
    "outputId": "e2e34f7f-e755-472e-918b-75e294d6b69b"
   },
   "outputs": [
    {
     "name": "stdout",
     "output_type": "stream",
     "text": [
      "Final score: 4.25\n"
     ]
    }
   ],
   "source": [
    "env = Environment(grid_size=size, max_time=T, temperature=0.3)\n",
    "agent = DQN_FC(size, lr=.1, epsilon = 0.1, memory_size=2000, batch_size = 16)\n",
    "train(agent, env, 50, prefix='fc_train', verbose=False)\n",
    "test(agent,env,10,prefix='fc_test', verbose = False)"
   ]
  },
  {
   "cell_type": "code",
   "execution_count": 0,
   "metadata": {
    "colab": {
     "base_uri": "https://localhost:8080/",
     "height": 35
    },
    "colab_type": "code",
    "id": "UfGM0tauF9Oo",
    "outputId": "07cc6671-fff3-40a8-c176-f98fd6a4304b"
   },
   "outputs": [
    {
     "name": "stdout",
     "output_type": "stream",
     "text": [
      "Final score: 5.25\n"
     ]
    }
   ],
   "source": [
    "env = Environment(grid_size=size, max_time=T, temperature=0.3)\n",
    "agent = DQN_FC(size, lr=.1, epsilon = 0.1, memory_size=2000, batch_size = 32)\n",
    "train(agent, env, 50, prefix='fc_train', verbose=False)\n",
    "test(agent,env,10,prefix='fc_test', verbose = False)"
   ]
  },
  {
   "cell_type": "code",
   "execution_count": 0,
   "metadata": {
    "colab": {
     "base_uri": "https://localhost:8080/",
     "height": 35
    },
    "colab_type": "code",
    "id": "ibsBotl0F9mq",
    "outputId": "b522df9e-b31b-420b-8993-a3d3b8cd432e"
   },
   "outputs": [
    {
     "name": "stdout",
     "output_type": "stream",
     "text": [
      "Final score: 9.25\n"
     ]
    }
   ],
   "source": [
    "env = Environment(grid_size=size, max_time=T, temperature=0.3)\n",
    "agent = DQN_FC(size, lr=.1, epsilon = 0.1, memory_size=2000, batch_size = 64)\n",
    "train(agent, env, 50, prefix='fc_train', verbose=False)\n",
    "test(agent,env,10,prefix='fc_test', verbose = False)"
   ]
  },
  {
   "cell_type": "markdown",
   "metadata": {
    "colab_type": "text",
    "id": "uIwx5TztDfFB"
   },
   "source": [
    "#### learning rate"
   ]
  },
  {
   "cell_type": "code",
   "execution_count": 0,
   "metadata": {
    "colab": {
     "base_uri": "https://localhost:8080/"
    },
    "colab_type": "code",
    "id": "ZxC_p5a2GQip",
    "outputId": "dff8bb95-f9c7-4fa5-ea49-41194eece44e"
   },
   "outputs": [
    {
     "name": "stdout",
     "output_type": "stream",
     "text": [
      "Final score: 7.2\n"
     ]
    }
   ],
   "source": [
    "env = Environment(grid_size=size, max_time=T, temperature=0.3)\n",
    "agent = DQN_FC(size, lr=.1, epsilon = 0.1, memory_size=2000, batch_size = 64)\n",
    "train(agent, env, 50, prefix='fc_train', verbose=False)\n",
    "test(agent,env,10,prefix='fc_test', verbose = False)"
   ]
  },
  {
   "cell_type": "code",
   "execution_count": 0,
   "metadata": {
    "colab": {
     "base_uri": "https://localhost:8080/",
     "height": 35
    },
    "colab_type": "code",
    "id": "Gd7mKXaDGQ0s",
    "outputId": "bf96c184-57ac-4e12-9040-fe86daa7ca83"
   },
   "outputs": [
    {
     "name": "stdout",
     "output_type": "stream",
     "text": [
      "Final score: 5.7\n"
     ]
    }
   ],
   "source": [
    "env = Environment(grid_size=size, max_time=T, temperature=0.3)\n",
    "agent = DQN_FC(size, lr=.3, epsilon = 0.1, memory_size=2000, batch_size = 64)\n",
    "train(agent, env, 50, prefix='fc_train', verbose=False)\n",
    "test(agent,env,10,prefix='fc_test', verbose = False)"
   ]
  },
  {
   "cell_type": "code",
   "execution_count": 0,
   "metadata": {
    "colab": {
     "base_uri": "https://localhost:8080/"
    },
    "colab_type": "code",
    "id": "Qhy5kZFRvjo1",
    "outputId": "7cb7492e-1255-48e1-a5ef-3697a5067051"
   },
   "outputs": [
    {
     "name": "stdout",
     "output_type": "stream",
     "text": [
      "Final score: 6.55\n"
     ]
    }
   ],
   "source": [
    "env = Environment(grid_size=size, max_time=T, temperature=0.3)\n",
    "agent = DQN_FC(size, lr=.5, epsilon = 0.1, memory_size=2000, batch_size = 64)\n",
    "train(agent, env, 50, prefix='fc_train', verbose=False)\n",
    "test(agent,env,10,prefix='fc_test', verbose = False)"
   ]
  },
  {
   "cell_type": "code",
   "execution_count": 17,
   "metadata": {
    "colab": {
     "base_uri": "https://localhost:8080/",
     "height": 1000
    },
    "colab_type": "code",
    "id": "jN0O7-Ozlmbl",
    "outputId": "56b3db26-7912-4e30-c998-edd0411ce037"
   },
   "outputs": [
    {
     "name": "stdout",
     "output_type": "stream",
     "text": [
      "Epoch 000/200 | Loss 0.0037 | Win/lose count 5.0/5.0 (0.0)\n",
      "Epoch 001/200 | Loss 0.0033 | Win/lose count 5.0/2.0 (3.0)\n",
      "Epoch 002/200 | Loss 0.0025 | Win/lose count 8.5/6.0 (2.5)\n",
      "Epoch 003/200 | Loss 0.0289 | Win/lose count 3.0/1.0 (2.0)\n",
      "Epoch 004/200 | Loss 0.0027 | Win/lose count 3.5/3.0 (0.5)\n",
      "Epoch 005/200 | Loss 0.0019 | Win/lose count 3.5/2.0 (1.5)\n",
      "Epoch 006/200 | Loss 0.0027 | Win/lose count 5.5/3.0 (2.5)\n",
      "Epoch 007/200 | Loss 0.0279 | Win/lose count 6.5/2.0 (4.5)\n",
      "Epoch 008/200 | Loss 0.0035 | Win/lose count 13.5/7.0 (6.5)\n",
      "Epoch 009/200 | Loss 0.0020 | Win/lose count 7.5/3.0 (4.5)\n",
      "Epoch 010/200 | Loss 0.0289 | Win/lose count 5.0/3.0 (2.0)\n",
      "Epoch 011/200 | Loss 0.0046 | Win/lose count 16.0/4.0 (12.0)\n",
      "Epoch 012/200 | Loss 0.0037 | Win/lose count 8.0/1.0 (7.0)\n",
      "Epoch 013/200 | Loss 0.0028 | Win/lose count 13.5/5.0 (8.5)\n",
      "Epoch 014/200 | Loss 0.0026 | Win/lose count 6.0/2.0 (4.0)\n",
      "Epoch 015/200 | Loss 0.0019 | Win/lose count 10.0/3.0 (7.0)\n",
      "Epoch 016/200 | Loss 0.0035 | Win/lose count 9.5/4.0 (5.5)\n",
      "Epoch 017/200 | Loss 0.0035 | Win/lose count 11.5/1.0 (10.5)\n",
      "Epoch 018/200 | Loss 0.0316 | Win/lose count 14.5/3.0 (11.5)\n",
      "Epoch 019/200 | Loss 0.0225 | Win/lose count 15.5/5.0 (10.5)\n",
      "Epoch 020/200 | Loss 0.0025 | Win/lose count 12.5/4.0 (8.5)\n",
      "Epoch 021/200 | Loss 0.0014 | Win/lose count 16.0/0 (16.0)\n",
      "Epoch 022/200 | Loss 0.0017 | Win/lose count 7.5/0 (7.5)\n",
      "Epoch 023/200 | Loss 0.0019 | Win/lose count 13.5/1.0 (12.5)\n",
      "Epoch 024/200 | Loss 0.0020 | Win/lose count 12.0/1.0 (11.0)\n",
      "Epoch 025/200 | Loss 0.0020 | Win/lose count 12.0/3.0 (9.0)\n",
      "Epoch 026/200 | Loss 0.0025 | Win/lose count 12.0/1.0 (11.0)\n",
      "Epoch 027/200 | Loss 0.0222 | Win/lose count 14.0/1.0 (13.0)\n",
      "Epoch 028/200 | Loss 0.0015 | Win/lose count 24.5/4.0 (20.5)\n",
      "Epoch 029/200 | Loss 0.0039 | Win/lose count 19.0/2.0 (17.0)\n",
      "Epoch 030/200 | Loss 0.0016 | Win/lose count 11.0/3.0 (8.0)\n",
      "Epoch 031/200 | Loss 0.0295 | Win/lose count 21.0/2.0 (19.0)\n",
      "Epoch 032/200 | Loss 0.0292 | Win/lose count 24.5/3.0 (21.5)\n",
      "Epoch 033/200 | Loss 0.0022 | Win/lose count 16.5/3.0 (13.5)\n",
      "Epoch 034/200 | Loss 0.0018 | Win/lose count 12.0/2.0 (10.0)\n",
      "Epoch 035/200 | Loss 0.0278 | Win/lose count 15.5/4.0 (11.5)\n",
      "Epoch 036/200 | Loss 0.0018 | Win/lose count 15.0/5.0 (10.0)\n",
      "Epoch 037/200 | Loss 0.0333 | Win/lose count 13.5/3.0 (10.5)\n",
      "Epoch 038/200 | Loss 0.0019 | Win/lose count 12.5/1.0 (11.5)\n",
      "Epoch 039/200 | Loss 0.0014 | Win/lose count 20.5/2.0 (18.5)\n",
      "Epoch 040/200 | Loss 0.0050 | Win/lose count 17.5/4.0 (13.5)\n",
      "Epoch 041/200 | Loss 0.0012 | Win/lose count 15.5/3.0 (12.5)\n",
      "Epoch 042/200 | Loss 0.0485 | Win/lose count 18.5/5.0 (13.5)\n",
      "Epoch 043/200 | Loss 0.0544 | Win/lose count 7.0/1.0 (6.0)\n",
      "Epoch 044/200 | Loss 0.0014 | Win/lose count 16.0/6.0 (10.0)\n",
      "Epoch 045/200 | Loss 0.0015 | Win/lose count 15.0/0 (15.0)\n",
      "Epoch 046/200 | Loss 0.0019 | Win/lose count 17.5/4.0 (13.5)\n",
      "Epoch 047/200 | Loss 0.0025 | Win/lose count 15.0/2.0 (13.0)\n",
      "Epoch 048/200 | Loss 0.0284 | Win/lose count 10.5/1.0 (9.5)\n",
      "Epoch 049/200 | Loss 0.0024 | Win/lose count 19.0/2.0 (17.0)\n",
      "Epoch 050/200 | Loss 0.0024 | Win/lose count 4.0/3.0 (1.0)\n",
      "Epoch 051/200 | Loss 0.0015 | Win/lose count 15.5/5.0 (10.5)\n",
      "Epoch 052/200 | Loss 0.0075 | Win/lose count 15.5/2.0 (13.5)\n",
      "Epoch 053/200 | Loss 0.0010 | Win/lose count 7.0/5.0 (2.0)\n",
      "Epoch 054/200 | Loss 0.0015 | Win/lose count 16.0/5.0 (11.0)\n",
      "Epoch 055/200 | Loss 0.0286 | Win/lose count 18.5/4.0 (14.5)\n",
      "Epoch 056/200 | Loss 0.0019 | Win/lose count 18.5/2.0 (16.5)\n",
      "Epoch 057/200 | Loss 0.0011 | Win/lose count 14.5/4.0 (10.5)\n",
      "Epoch 058/200 | Loss 0.0021 | Win/lose count 13.5/3.0 (10.5)\n",
      "Epoch 059/200 | Loss 0.0286 | Win/lose count 17.0/1.0 (16.0)\n",
      "Epoch 060/200 | Loss 0.0257 | Win/lose count 13.5/7.0 (6.5)\n",
      "Epoch 061/200 | Loss 0.0018 | Win/lose count 6.5/2.0 (4.5)\n",
      "Epoch 062/200 | Loss 0.0021 | Win/lose count 21.0/4.0 (17.0)\n",
      "Epoch 063/200 | Loss 0.0023 | Win/lose count 12.5/3.0 (9.5)\n",
      "Epoch 064/200 | Loss 0.0021 | Win/lose count 24.0/4.0 (20.0)\n",
      "Epoch 065/200 | Loss 0.0024 | Win/lose count 15.5/1.0 (14.5)\n",
      "Epoch 066/200 | Loss 0.0011 | Win/lose count 12.5/4.0 (8.5)\n",
      "Epoch 067/200 | Loss 0.0019 | Win/lose count 21.0/2.0 (19.0)\n",
      "Epoch 068/200 | Loss 0.0248 | Win/lose count 17.5/1.0 (16.5)\n",
      "Epoch 069/200 | Loss 0.0079 | Win/lose count 15.5/7.0 (8.5)\n",
      "Epoch 070/200 | Loss 0.0022 | Win/lose count 15.0/4.0 (11.0)\n",
      "Epoch 071/200 | Loss 0.0025 | Win/lose count 16.5/3.0 (13.5)\n",
      "Epoch 072/200 | Loss 0.0020 | Win/lose count 24.5/3.0 (21.5)\n",
      "Epoch 073/200 | Loss 0.0018 | Win/lose count 27.0/3.0 (24.0)\n",
      "Epoch 074/200 | Loss 0.0601 | Win/lose count 19.5/4.0 (15.5)\n",
      "Epoch 075/200 | Loss 0.0022 | Win/lose count 16.0/4.0 (12.0)\n",
      "Epoch 076/200 | Loss 0.0279 | Win/lose count 13.0/4.0 (9.0)\n",
      "Epoch 077/200 | Loss 0.0273 | Win/lose count 15.0/3.0 (12.0)\n",
      "Epoch 078/200 | Loss 0.0015 | Win/lose count 19.5/4.0 (15.5)\n",
      "Epoch 079/200 | Loss 0.0012 | Win/lose count 16.0/3.0 (13.0)\n",
      "Epoch 080/200 | Loss 0.0053 | Win/lose count 12.0/5.0 (7.0)\n",
      "Epoch 081/200 | Loss 0.0018 | Win/lose count 16.5/4.0 (12.5)\n",
      "Epoch 082/200 | Loss 0.0019 | Win/lose count 18.0/1.0 (17.0)\n",
      "Epoch 083/200 | Loss 0.0020 | Win/lose count 9.5/2.0 (7.5)\n",
      "Epoch 084/200 | Loss 0.0012 | Win/lose count 4.0/3.0 (1.0)\n",
      "Epoch 085/200 | Loss 0.0233 | Win/lose count 18.0/4.0 (14.0)\n",
      "Epoch 086/200 | Loss 0.0286 | Win/lose count 16.0/3.0 (13.0)\n",
      "Epoch 087/200 | Loss 0.0024 | Win/lose count 13.5/1.0 (12.5)\n",
      "Epoch 088/200 | Loss 0.0023 | Win/lose count 11.0/5.0 (6.0)\n",
      "Epoch 089/200 | Loss 0.0019 | Win/lose count 18.5/4.0 (14.5)\n",
      "Epoch 090/200 | Loss 0.0030 | Win/lose count 15.5/3.0 (12.5)\n",
      "Epoch 091/200 | Loss 0.0049 | Win/lose count 21.0/5.0 (16.0)\n",
      "Epoch 092/200 | Loss 0.0026 | Win/lose count 16.5/4.0 (12.5)\n",
      "Epoch 093/200 | Loss 0.0280 | Win/lose count 19.5/5.0 (14.5)\n",
      "Epoch 094/200 | Loss 0.0475 | Win/lose count 16.0/5.0 (11.0)\n",
      "Epoch 095/200 | Loss 0.0014 | Win/lose count 11.0/1.0 (10.0)\n",
      "Epoch 096/200 | Loss 0.0848 | Win/lose count 21.0/6.0 (15.0)\n",
      "Epoch 097/200 | Loss 0.0060 | Win/lose count 18.5/3.0 (15.5)\n",
      "Epoch 098/200 | Loss 0.0014 | Win/lose count 22.0/1.0 (21.0)\n",
      "Epoch 099/200 | Loss 0.0024 | Win/lose count 14.0/3.0 (11.0)\n",
      "Epoch 100/200 | Loss 0.0019 | Win/lose count 17.5/3.0 (14.5)\n",
      "Epoch 101/200 | Loss 0.0047 | Win/lose count 16.0/3.0 (13.0)\n",
      "Epoch 102/200 | Loss 0.0012 | Win/lose count 21.5/2.0 (19.5)\n",
      "Epoch 103/200 | Loss 0.0011 | Win/lose count 13.5/4.0 (9.5)\n",
      "Epoch 104/200 | Loss 0.0260 | Win/lose count 16.0/4.0 (12.0)\n",
      "Epoch 105/200 | Loss 0.0018 | Win/lose count 14.5/4.0 (10.5)\n",
      "Epoch 106/200 | Loss 0.0031 | Win/lose count 22.5/2.0 (20.5)\n",
      "Epoch 107/200 | Loss 0.0013 | Win/lose count 6.5/1.0 (5.5)\n",
      "Epoch 108/200 | Loss 0.0022 | Win/lose count 9.5/3.0 (6.5)\n",
      "Epoch 109/200 | Loss 0.0252 | Win/lose count 11.0/6.0 (5.0)\n",
      "Epoch 110/200 | Loss 0.0244 | Win/lose count 10.0/2.0 (8.0)\n",
      "Epoch 111/200 | Loss 0.0246 | Win/lose count 17.0/2.0 (15.0)\n",
      "Epoch 112/200 | Loss 0.0020 | Win/lose count 26.0/2.0 (24.0)\n",
      "Epoch 113/200 | Loss 0.0013 | Win/lose count 11.0/5.0 (6.0)\n",
      "Epoch 114/200 | Loss 0.0013 | Win/lose count 20.5/4.0 (16.5)\n",
      "Epoch 115/200 | Loss 0.0018 | Win/lose count 21.5/7.0 (14.5)\n",
      "Epoch 116/200 | Loss 0.0039 | Win/lose count 22.5/5.0 (17.5)\n",
      "Epoch 117/200 | Loss 0.0050 | Win/lose count 20.0/5.0 (15.0)\n",
      "Epoch 118/200 | Loss 0.0048 | Win/lose count 23.0/6.0 (17.0)\n",
      "Epoch 119/200 | Loss 0.0276 | Win/lose count 18.5/3.0 (15.5)\n",
      "Epoch 120/200 | Loss 0.0029 | Win/lose count 22.5/4.0 (18.5)\n",
      "Epoch 121/200 | Loss 0.0025 | Win/lose count 15.0/2.0 (13.0)\n",
      "Epoch 122/200 | Loss 0.0023 | Win/lose count 14.5/2.0 (12.5)\n",
      "Epoch 123/200 | Loss 0.0270 | Win/lose count 19.0/1.0 (18.0)\n",
      "Epoch 124/200 | Loss 0.0014 | Win/lose count 22.5/5.0 (17.5)\n",
      "Epoch 125/200 | Loss 0.0022 | Win/lose count 19.5/3.0 (16.5)\n",
      "Epoch 126/200 | Loss 0.0012 | Win/lose count 11.0/0 (11.0)\n",
      "Epoch 127/200 | Loss 0.0027 | Win/lose count 22.0/5.0 (17.0)\n",
      "Epoch 128/200 | Loss 0.0029 | Win/lose count 25.0/4.0 (21.0)\n",
      "Epoch 129/200 | Loss 0.0024 | Win/lose count 20.5/3.0 (17.5)\n",
      "Epoch 130/200 | Loss 0.0500 | Win/lose count 12.5/3.0 (9.5)\n",
      "Epoch 131/200 | Loss 0.0026 | Win/lose count 11.5/3.0 (8.5)\n",
      "Epoch 132/200 | Loss 0.0018 | Win/lose count 22.5/2.0 (20.5)\n",
      "Epoch 133/200 | Loss 0.0074 | Win/lose count 19.0/2.0 (17.0)\n",
      "Epoch 134/200 | Loss 0.0019 | Win/lose count 18.5/6.0 (12.5)\n",
      "Epoch 135/200 | Loss 0.0020 | Win/lose count 20.0/4.0 (16.0)\n",
      "Epoch 136/200 | Loss 0.0061 | Win/lose count 13.0/4.0 (9.0)\n",
      "Epoch 137/200 | Loss 0.0023 | Win/lose count 14.5/6.0 (8.5)\n",
      "Epoch 138/200 | Loss 0.0023 | Win/lose count 21.0/0 (21.0)\n",
      "Epoch 139/200 | Loss 0.0039 | Win/lose count 12.5/4.0 (8.5)\n",
      "Epoch 140/200 | Loss 0.0015 | Win/lose count 14.5/4.0 (10.5)\n",
      "Epoch 141/200 | Loss 0.0012 | Win/lose count 6.0/4.0 (2.0)\n",
      "Epoch 142/200 | Loss 0.0518 | Win/lose count 21.0/4.0 (17.0)\n",
      "Epoch 143/200 | Loss 0.0021 | Win/lose count 15.0/2.0 (13.0)\n",
      "Epoch 144/200 | Loss 0.0015 | Win/lose count 19.0/4.0 (15.0)\n",
      "Epoch 145/200 | Loss 0.0018 | Win/lose count 12.0/3.0 (9.0)\n",
      "Epoch 146/200 | Loss 0.0028 | Win/lose count 16.5/2.0 (14.5)\n",
      "Epoch 147/200 | Loss 0.0031 | Win/lose count 21.5/2.0 (19.5)\n",
      "Epoch 148/200 | Loss 0.0018 | Win/lose count 11.5/0 (11.5)\n",
      "Epoch 149/200 | Loss 0.0018 | Win/lose count 17.5/5.0 (12.5)\n",
      "Epoch 150/200 | Loss 0.0512 | Win/lose count 16.0/0 (16.0)\n",
      "Epoch 151/200 | Loss 0.0022 | Win/lose count 16.0/3.0 (13.0)\n",
      "Epoch 152/200 | Loss 0.0261 | Win/lose count 18.5/2.0 (16.5)\n",
      "Epoch 153/200 | Loss 0.0017 | Win/lose count 5.0/1.0 (4.0)\n",
      "Epoch 154/200 | Loss 0.0025 | Win/lose count 9.0/4.0 (5.0)\n",
      "Epoch 155/200 | Loss 0.0281 | Win/lose count 22.5/6.0 (16.5)\n",
      "Epoch 156/200 | Loss 0.0018 | Win/lose count 23.0/6.0 (17.0)\n",
      "Epoch 157/200 | Loss 0.0021 | Win/lose count 17.0/2.0 (15.0)\n",
      "Epoch 158/200 | Loss 0.0020 | Win/lose count 20.5/4.0 (16.5)\n",
      "Epoch 159/200 | Loss 0.0025 | Win/lose count 20.5/6.0 (14.5)\n",
      "Epoch 160/200 | Loss 0.0304 | Win/lose count 15.5/2.0 (13.5)\n",
      "Epoch 161/200 | Loss 0.0032 | Win/lose count 10.0/4.0 (6.0)\n",
      "Epoch 162/200 | Loss 0.0260 | Win/lose count 28.0/5.0 (23.0)\n",
      "Epoch 163/200 | Loss 0.0021 | Win/lose count 12.5/4.0 (8.5)\n",
      "Epoch 164/200 | Loss 0.0256 | Win/lose count 15.0/1.0 (14.0)\n",
      "Epoch 165/200 | Loss 0.0275 | Win/lose count 11.0/5.0 (6.0)\n",
      "Epoch 166/200 | Loss 0.0019 | Win/lose count 26.5/4.0 (22.5)\n",
      "Epoch 167/200 | Loss 0.0533 | Win/lose count 7.5/1.0 (6.5)\n",
      "Epoch 168/200 | Loss 0.0015 | Win/lose count 17.5/4.0 (13.5)\n",
      "Epoch 169/200 | Loss 0.0017 | Win/lose count 17.5/5.0 (12.5)\n",
      "Epoch 170/200 | Loss 0.0021 | Win/lose count 12.0/4.0 (8.0)\n",
      "Epoch 171/200 | Loss 0.0480 | Win/lose count 12.5/7.0 (5.5)\n",
      "Epoch 172/200 | Loss 0.0021 | Win/lose count 25.5/1.0 (24.5)\n",
      "Epoch 173/200 | Loss 0.0287 | Win/lose count 18.5/0 (18.5)\n",
      "Epoch 174/200 | Loss 0.0016 | Win/lose count 15.0/3.0 (12.0)\n",
      "Epoch 175/200 | Loss 0.0206 | Win/lose count 9.0/1.0 (8.0)\n",
      "Epoch 176/200 | Loss 0.0081 | Win/lose count 17.5/1.0 (16.5)\n",
      "Epoch 177/200 | Loss 0.0009 | Win/lose count 18.5/10.0 (8.5)\n",
      "Epoch 178/200 | Loss 0.0025 | Win/lose count 11.5/2.0 (9.5)\n",
      "Epoch 179/200 | Loss 0.0018 | Win/lose count 18.0/4.0 (14.0)\n",
      "Epoch 180/200 | Loss 0.0016 | Win/lose count 16.0/1.0 (15.0)\n",
      "Epoch 181/200 | Loss 0.0262 | Win/lose count 15.5/5.0 (10.5)\n",
      "Epoch 182/200 | Loss 0.0038 | Win/lose count 12.5/4.0 (8.5)\n",
      "Epoch 183/200 | Loss 0.0274 | Win/lose count 15.0/1.0 (14.0)\n",
      "Epoch 184/200 | Loss 0.0020 | Win/lose count 21.5/5.0 (16.5)\n",
      "Epoch 185/200 | Loss 0.0018 | Win/lose count 3.5/0 (3.5)\n",
      "Epoch 186/200 | Loss 0.0016 | Win/lose count 18.0/3.0 (15.0)\n",
      "Epoch 187/200 | Loss 0.0016 | Win/lose count 14.0/2.0 (12.0)\n",
      "Epoch 188/200 | Loss 0.0017 | Win/lose count 4.0/5.0 (-1.0)\n",
      "Epoch 189/200 | Loss 0.0013 | Win/lose count 17.0/6.0 (11.0)\n",
      "Epoch 190/200 | Loss 0.0019 | Win/lose count 6.5/4.0 (2.5)\n",
      "Epoch 191/200 | Loss 0.0016 | Win/lose count 16.5/3.0 (13.5)\n",
      "Epoch 192/200 | Loss 0.0018 | Win/lose count 17.0/4.0 (13.0)\n",
      "Epoch 193/200 | Loss 0.0018 | Win/lose count 15.0/4.0 (11.0)\n",
      "Epoch 194/200 | Loss 0.0014 | Win/lose count 11.5/3.0 (8.5)\n",
      "Epoch 195/200 | Loss 0.0020 | Win/lose count 17.5/4.0 (13.5)\n",
      "Epoch 196/200 | Loss 0.0012 | Win/lose count 10.5/2.0 (8.5)\n",
      "Epoch 197/200 | Loss 0.0020 | Win/lose count 19.5/2.0 (17.5)\n",
      "Epoch 198/200 | Loss 0.0482 | Win/lose count 22.5/3.0 (19.5)\n",
      "Epoch 199/200 | Loss 0.0023 | Win/lose count 19.5/4.0 (15.5)\n"
     ]
    }
   ],
   "source": [
    "env = Environment(grid_size=size, max_time=T, temperature=0.3)\n",
    "agent = DQN_FC(size, lr=.1, epsilon = 0.1, memory_size=2000, batch_size = 64)\n",
    "train(agent, env, 200, prefix='fc_train', verbose=True)"
   ]
  },
  {
   "cell_type": "code",
   "execution_count": 19,
   "metadata": {
    "colab": {
     "base_uri": "https://localhost:8080/",
     "height": 656
    },
    "colab_type": "code",
    "id": "vUbEXwjIsZjl",
    "outputId": "a806b7e1-8b54-4a78-e330-77c757a65a3e"
   },
   "outputs": [
    {
     "name": "stdout",
     "output_type": "stream",
     "text": [
      "Win/lose count 1.0/0. Average score (1.0)\n",
      "Win/lose count 8.0/0. Average score (4.5)\n",
      "Win/lose count 4.0/0. Average score (4.333333333333333)\n",
      "Win/lose count 13.5/0. Average score (6.625)\n",
      "Win/lose count 6.0/0. Average score (6.5)\n",
      "Win/lose count 22.0/1.0. Average score (8.916666666666666)\n",
      "Win/lose count 26.5/0. Average score (11.428571428571429)\n",
      "Win/lose count 10.5/0. Average score (11.3125)\n",
      "Win/lose count 15.5/0. Average score (11.777777777777779)\n",
      "Win/lose count 16.5/0. Average score (12.25)\n",
      "Win/lose count 12.5/0. Average score (12.272727272727273)\n",
      "Win/lose count 5.5/0. Average score (11.708333333333334)\n",
      "Win/lose count 5.0/0. Average score (11.192307692307692)\n",
      "Win/lose count 11.5/0. Average score (11.214285714285714)\n",
      "Win/lose count 20.0/0. Average score (11.8)\n",
      "Win/lose count 16.5/0. Average score (12.09375)\n",
      "Win/lose count 14.0/0. Average score (12.205882352941176)\n",
      "Win/lose count 9.0/0. Average score (12.027777777777779)\n",
      "Win/lose count 6.0/0. Average score (11.710526315789474)\n",
      "Win/lose count 23.0/1.0. Average score (12.225)\n",
      "Win/lose count 6.0/0. Average score (11.928571428571429)\n",
      "Win/lose count 21.0/1.0. Average score (12.295454545454545)\n",
      "Win/lose count 8.5/0. Average score (12.130434782608695)\n",
      "Win/lose count 14.0/0. Average score (12.208333333333334)\n",
      "Win/lose count 8.5/0. Average score (12.06)\n",
      "Win/lose count 5.0/0. Average score (11.788461538461538)\n",
      "Win/lose count 11.0/0. Average score (11.75925925925926)\n",
      "Win/lose count 3.0/0. Average score (11.446428571428571)\n",
      "Win/lose count 5.0/0. Average score (11.224137931034482)\n",
      "Win/lose count 11.0/0. Average score (11.216666666666667)\n",
      "Win/lose count 11.0/0. Average score (11.209677419354838)\n",
      "Win/lose count 10.0/0. Average score (11.171875)\n",
      "Win/lose count 10.0/1.0. Average score (11.106060606060606)\n",
      "Win/lose count 13.0/0. Average score (11.161764705882353)\n",
      "Win/lose count 0/0. Average score (10.842857142857143)\n",
      "Final score: 10.842857142857143\n"
     ]
    }
   ],
   "source": [
    "test(agent,env,35,prefix='fc_test', verbose = True)"
   ]
  },
  {
   "cell_type": "markdown",
   "metadata": {
    "colab_type": "text",
    "id": "qIgsFXZjD2wI"
   },
   "source": [
    "#### memory size"
   ]
  },
  {
   "cell_type": "code",
   "execution_count": 0,
   "metadata": {
    "colab": {
     "base_uri": "https://localhost:8080/",
     "height": 34
    },
    "colab_type": "code",
    "id": "w_y-2a61A0Js",
    "outputId": "66dec595-2447-4a0e-f7c6-a587f8655c27"
   },
   "outputs": [
    {
     "name": "stdout",
     "output_type": "stream",
     "text": [
      "Final score: 3.85\n"
     ]
    }
   ],
   "source": [
    "env = Environment(grid_size=size, max_time=T, temperature=0.3)\n",
    "agent = DQN_FC(size, lr=.1, epsilon = 0.1, memory_size=500, batch_size = 64)\n",
    "train(agent, env, 50, prefix='fc_train', verbose=False)\n",
    "test(agent,env,10,prefix='fc_test', verbose = False)"
   ]
  },
  {
   "cell_type": "code",
   "execution_count": 0,
   "metadata": {
    "colab": {
     "base_uri": "https://localhost:8080/",
     "height": 34
    },
    "colab_type": "code",
    "id": "Q05wyqpbGq7Z",
    "outputId": "fdc38dee-2e07-4e3e-ab51-846acfb1684d"
   },
   "outputs": [
    {
     "name": "stdout",
     "output_type": "stream",
     "text": [
      "Final score: 3.7\n"
     ]
    }
   ],
   "source": [
    "env = Environment(grid_size=size, max_time=T, temperature=0.3)\n",
    "agent = DQN_FC(size, lr=.1, epsilon = 0.1, memory_size=1000, batch_size = 64)\n",
    "train(agent, env, 50, prefix='fc_train', verbose=False)\n",
    "test(agent,env,10,prefix='fc_test', verbose = False)"
   ]
  },
  {
   "cell_type": "code",
   "execution_count": 0,
   "metadata": {
    "colab": {
     "base_uri": "https://localhost:8080/",
     "height": 34
    },
    "colab_type": "code",
    "id": "wXVSHeazGrJQ",
    "outputId": "d03bb615-be31-493d-d529-74ef508db901"
   },
   "outputs": [
    {
     "name": "stdout",
     "output_type": "stream",
     "text": [
      "Final score: 4.3\n"
     ]
    }
   ],
   "source": [
    "env = Environment(grid_size=size, max_time=T, temperature=0.3)\n",
    "agent = DQN_FC(size, lr=.1, epsilon = 0.1, memory_size=2000, batch_size = 64)\n",
    "train(agent, env, 50, prefix='fc_train', verbose=False)\n",
    "test(agent,env,10,prefix='fc_test', verbose = False)"
   ]
  },
  {
   "cell_type": "code",
   "execution_count": 0,
   "metadata": {
    "colab": {
     "base_uri": "https://localhost:8080/",
     "height": 34
    },
    "colab_type": "code",
    "id": "uUeHN0VMLUEo",
    "outputId": "bebb5e30-6802-4d36-81cd-400414efe681"
   },
   "outputs": [
    {
     "name": "stdout",
     "output_type": "stream",
     "text": [
      "Final score: 7.25\n"
     ]
    }
   ],
   "source": [
    "env = Environment(grid_size=size, max_time=T, temperature=0.3)\n",
    "agent = DQN_FC(size, lr=.1, epsilon = 0.1, memory_size=3500, batch_size = 64)\n",
    "train(agent, env, 50, prefix='fc_train', verbose=False)\n",
    "test(agent,env,10,prefix='fc_test', verbose = False)"
   ]
  },
  {
   "cell_type": "markdown",
   "metadata": {
    "colab_type": "text",
    "id": "UeggkEvRQ5Y5"
   },
   "source": [
    "***\n",
    "***\n",
    "__Question 8__ Implement the DQN training algorithm using a CNN (for example, 2 convolutional layers and one final fully connected layer)."
   ]
  },
  {
   "cell_type": "code",
   "execution_count": 0,
   "metadata": {
    "colab": {},
    "colab_type": "code",
    "id": "HUuFO_65Q5Y5"
   },
   "outputs": [],
   "source": [
    "class DQN_CNN(DQN):\n",
    "    def __init__(self, *args,lr=0.1,**kwargs):\n",
    "        super(DQN_CNN, self).__init__(*args,**kwargs)\n",
    "        \n",
    "        model = Sequential()\n",
    "        model.add(Conv2D(50,(2,2),input_shape=(5,5,self.n_state,),activation='relu'))\n",
    "        model.add(Conv2D(30,(2,2),activation='relu'))\n",
    "        model.add(Flatten())\n",
    "        model.add(Dense(4))\n",
    "        \n",
    "        model.compile(sgd(lr=lr, decay=1e-4, momentum=0.0), \"mse\")\n",
    "        self.model = model"
   ]
  },
  {
   "cell_type": "code",
   "execution_count": 0,
   "metadata": {
    "colab": {
     "base_uri": "https://localhost:8080/",
     "height": 1000
    },
    "colab_type": "code",
    "id": "FwszAPAEgjbn",
    "outputId": "191c3e11-579e-486a-ea65-0997853ec54c"
   },
   "outputs": [
    {
     "name": "stdout",
     "output_type": "stream",
     "text": [
      "Epoch 000/200 | Loss 0.0034 | Win/lose count 3.0/4.0 (-1.0)\n",
      "Epoch 001/200 | Loss 0.0078 | Win/lose count 2.5/1.0 (1.5)\n",
      "Epoch 002/200 | Loss 0.0390 | Win/lose count 2.0/0 (2.0)\n",
      "Epoch 003/200 | Loss 0.0565 | Win/lose count 1.0/0 (1.0)\n",
      "Epoch 004/200 | Loss 0.0006 | Win/lose count 3.0/2.0 (1.0)\n",
      "Epoch 005/200 | Loss 0.0378 | Win/lose count 5.5/6.0 (-0.5)\n",
      "Epoch 006/200 | Loss 0.0015 | Win/lose count 8.0/5.0 (3.0)\n",
      "Epoch 007/200 | Loss 0.0564 | Win/lose count 6.5/4.0 (2.5)\n",
      "Epoch 008/200 | Loss 0.0163 | Win/lose count 9.0/5.0 (4.0)\n",
      "Epoch 009/200 | Loss 0.0012 | Win/lose count 6.5/4.0 (2.5)\n",
      "Epoch 010/200 | Loss 0.0013 | Win/lose count 7.5/3.0 (4.5)\n",
      "Epoch 011/200 | Loss 0.0058 | Win/lose count 8.5/6.0 (2.5)\n",
      "Epoch 012/200 | Loss 0.0492 | Win/lose count 5.5/1.0 (4.5)\n",
      "Epoch 013/200 | Loss 0.0118 | Win/lose count 8.5/2.0 (6.5)\n",
      "Epoch 014/200 | Loss 0.0014 | Win/lose count 9.5/6.0 (3.5)\n",
      "Epoch 015/200 | Loss 0.0019 | Win/lose count 8.5/4.0 (4.5)\n",
      "Epoch 016/200 | Loss 0.0118 | Win/lose count 14.0/5.0 (9.0)\n",
      "Epoch 017/200 | Loss 0.0031 | Win/lose count 7.5/6.0 (1.5)\n",
      "Epoch 018/200 | Loss 0.0485 | Win/lose count 5.5/1.0 (4.5)\n",
      "Epoch 019/200 | Loss 0.0035 | Win/lose count 10.0/3.0 (7.0)\n",
      "Epoch 020/200 | Loss 0.0504 | Win/lose count 11.5/1.0 (10.5)\n",
      "Epoch 021/200 | Loss 0.0062 | Win/lose count 12.0/0 (12.0)\n",
      "Epoch 022/200 | Loss 0.0042 | Win/lose count 17.5/3.0 (14.5)\n",
      "Epoch 023/200 | Loss 0.0021 | Win/lose count 15.0/4.0 (11.0)\n",
      "Epoch 024/200 | Loss 0.0044 | Win/lose count 6.5/5.0 (1.5)\n",
      "Epoch 025/200 | Loss 0.0395 | Win/lose count 4.5/1.0 (3.5)\n",
      "Epoch 026/200 | Loss 0.0015 | Win/lose count 6.5/2.0 (4.5)\n",
      "Epoch 027/200 | Loss 0.0013 | Win/lose count 6.5/4.0 (2.5)\n",
      "Epoch 028/200 | Loss 0.0015 | Win/lose count 4.0/0 (4.0)\n",
      "Epoch 029/200 | Loss 0.0029 | Win/lose count 11.5/3.0 (8.5)\n",
      "Epoch 030/200 | Loss 0.0039 | Win/lose count 17.5/8.0 (9.5)\n",
      "Epoch 031/200 | Loss 0.0015 | Win/lose count 12.0/1.0 (11.0)\n",
      "Epoch 032/200 | Loss 0.0040 | Win/lose count 6.5/0 (6.5)\n",
      "Epoch 033/200 | Loss 0.0487 | Win/lose count 18.5/2.0 (16.5)\n",
      "Epoch 034/200 | Loss 0.0020 | Win/lose count 7.5/2.0 (5.5)\n",
      "Epoch 035/200 | Loss 0.0042 | Win/lose count 15.5/3.0 (12.5)\n",
      "Epoch 036/200 | Loss 0.0056 | Win/lose count 13.5/4.0 (9.5)\n",
      "Epoch 037/200 | Loss 0.0027 | Win/lose count 12.5/1.0 (11.5)\n",
      "Epoch 038/200 | Loss 0.0020 | Win/lose count 8.0/1.0 (7.0)\n",
      "Epoch 039/200 | Loss 0.0015 | Win/lose count 13.5/3.0 (10.5)\n",
      "Epoch 040/200 | Loss 0.0029 | Win/lose count 15.0/4.0 (11.0)\n",
      "Epoch 041/200 | Loss 0.0037 | Win/lose count 10.5/0 (10.5)\n",
      "Epoch 042/200 | Loss 0.0018 | Win/lose count 5.5/1.0 (4.5)\n",
      "Epoch 043/200 | Loss 0.0037 | Win/lose count 12.0/2.0 (10.0)\n",
      "Epoch 044/200 | Loss 0.0017 | Win/lose count 24.5/4.0 (20.5)\n",
      "Epoch 045/200 | Loss 0.0027 | Win/lose count 12.0/0 (12.0)\n",
      "Epoch 046/200 | Loss 0.0013 | Win/lose count 10.0/2.0 (8.0)\n",
      "Epoch 047/200 | Loss 0.0017 | Win/lose count 12.0/3.0 (9.0)\n",
      "Epoch 048/200 | Loss 0.0484 | Win/lose count 19.5/1.0 (18.5)\n",
      "Epoch 049/200 | Loss 0.0025 | Win/lose count 13.0/3.0 (10.0)\n",
      "Epoch 050/200 | Loss 0.0022 | Win/lose count 13.0/1.0 (12.0)\n",
      "Epoch 051/200 | Loss 0.0026 | Win/lose count 21.5/2.0 (19.5)\n",
      "Epoch 052/200 | Loss 0.0019 | Win/lose count 17.0/4.0 (13.0)\n",
      "Epoch 053/200 | Loss 0.0024 | Win/lose count 19.0/2.0 (17.0)\n",
      "Epoch 054/200 | Loss 0.0032 | Win/lose count 13.5/5.0 (8.5)\n",
      "Epoch 055/200 | Loss 0.0526 | Win/lose count 14.0/5.0 (9.0)\n",
      "Epoch 056/200 | Loss 0.0038 | Win/lose count 15.0/5.0 (10.0)\n",
      "Epoch 057/200 | Loss 0.0015 | Win/lose count 7.5/4.0 (3.5)\n",
      "Epoch 058/200 | Loss 0.0060 | Win/lose count 4.0/3.0 (1.0)\n",
      "Epoch 059/200 | Loss 0.0027 | Win/lose count 16.5/4.0 (12.5)\n",
      "Epoch 060/200 | Loss 0.0026 | Win/lose count 22.5/4.0 (18.5)\n",
      "Epoch 061/200 | Loss 0.0027 | Win/lose count 18.5/3.0 (15.5)\n",
      "Epoch 062/200 | Loss 0.0013 | Win/lose count 12.5/1.0 (11.5)\n",
      "Epoch 063/200 | Loss 0.0029 | Win/lose count 23.0/6.0 (17.0)\n",
      "Epoch 064/200 | Loss 0.0083 | Win/lose count 15.5/4.0 (11.5)\n",
      "Epoch 065/200 | Loss 0.0025 | Win/lose count 12.5/3.0 (9.5)\n",
      "Epoch 066/200 | Loss 0.0100 | Win/lose count 12.0/2.0 (10.0)\n",
      "Epoch 067/200 | Loss 0.0524 | Win/lose count 7.5/1.0 (6.5)\n",
      "Epoch 068/200 | Loss 0.0022 | Win/lose count 14.5/2.0 (12.5)\n",
      "Epoch 069/200 | Loss 0.0032 | Win/lose count 12.5/2.0 (10.5)\n",
      "Epoch 070/200 | Loss 0.0031 | Win/lose count 20.0/1.0 (19.0)\n",
      "Epoch 071/200 | Loss 0.0064 | Win/lose count 16.5/1.0 (15.5)\n",
      "Epoch 072/200 | Loss 0.0015 | Win/lose count 15.0/4.0 (11.0)\n",
      "Epoch 073/200 | Loss 0.0024 | Win/lose count 11.0/5.0 (6.0)\n",
      "Epoch 074/200 | Loss 0.0560 | Win/lose count 23.0/2.0 (21.0)\n",
      "Epoch 075/200 | Loss 0.0605 | Win/lose count 19.0/1.0 (18.0)\n",
      "Epoch 076/200 | Loss 0.0017 | Win/lose count 9.0/1.0 (8.0)\n",
      "Epoch 077/200 | Loss 0.0025 | Win/lose count 12.0/3.0 (9.0)\n",
      "Epoch 078/200 | Loss 0.0097 | Win/lose count 18.0/4.0 (14.0)\n",
      "Epoch 079/200 | Loss 0.0020 | Win/lose count 13.5/3.0 (10.5)\n",
      "Epoch 080/200 | Loss 0.0019 | Win/lose count 19.5/4.0 (15.5)\n",
      "Epoch 081/200 | Loss 0.0586 | Win/lose count 28.0/3.0 (25.0)\n",
      "Epoch 082/200 | Loss 0.0063 | Win/lose count 20.0/5.0 (15.0)\n",
      "Epoch 083/200 | Loss 0.0590 | Win/lose count 14.0/2.0 (12.0)\n",
      "Epoch 084/200 | Loss 0.0562 | Win/lose count 12.0/4.0 (8.0)\n",
      "Epoch 085/200 | Loss 0.0034 | Win/lose count 14.5/4.0 (10.5)\n",
      "Epoch 087/200 | Loss 0.0032 | Win/lose count 18.0/4.0 (14.0)\n",
      "Epoch 088/200 | Loss 0.0013 | Win/lose count 23.0/4.0 (19.0)\n",
      "Epoch 089/200 | Loss 0.0035 | Win/lose count 25.5/4.0 (21.5)\n",
      "Epoch 090/200 | Loss 0.0025 | Win/lose count 14.5/4.0 (10.5)\n",
      "Epoch 091/200 | Loss 0.0020 | Win/lose count 8.0/1.0 (7.0)\n",
      "Epoch 092/200 | Loss 0.0026 | Win/lose count 12.0/2.0 (10.0)\n",
      "Epoch 093/200 | Loss 0.0013 | Win/lose count 23.0/2.0 (21.0)\n",
      "Epoch 094/200 | Loss 0.0012 | Win/lose count 10.5/3.0 (7.5)\n",
      "Epoch 095/200 | Loss 0.0024 | Win/lose count 14.5/7.0 (7.5)\n",
      "Epoch 096/200 | Loss 0.0022 | Win/lose count 26.5/1.0 (25.5)\n",
      "Epoch 097/200 | Loss 0.0042 | Win/lose count 23.5/2.0 (21.5)\n",
      "Epoch 098/200 | Loss 0.0516 | Win/lose count 14.5/9.0 (5.5)\n",
      "Epoch 099/200 | Loss 0.0040 | Win/lose count 20.0/3.0 (17.0)\n",
      "Epoch 100/200 | Loss 0.0061 | Win/lose count 14.0/1.0 (13.0)\n",
      "Epoch 101/200 | Loss 0.0538 | Win/lose count 22.0/4.0 (18.0)\n",
      "Epoch 102/200 | Loss 0.0113 | Win/lose count 19.5/3.0 (16.5)\n",
      "Epoch 103/200 | Loss 0.0025 | Win/lose count 18.5/4.0 (14.5)\n",
      "Epoch 104/200 | Loss 0.0016 | Win/lose count 8.5/1.0 (7.5)\n",
      "Epoch 105/200 | Loss 0.0066 | Win/lose count 25.0/2.0 (23.0)\n",
      "Epoch 106/200 | Loss 0.0510 | Win/lose count 9.0/3.0 (6.0)\n",
      "Epoch 107/200 | Loss 0.0032 | Win/lose count 22.0/5.0 (17.0)\n",
      "Epoch 108/200 | Loss 0.0025 | Win/lose count 12.5/3.0 (9.5)\n",
      "Epoch 109/200 | Loss 0.0041 | Win/lose count 16.5/3.0 (13.5)\n",
      "Epoch 110/200 | Loss 0.0014 | Win/lose count 10.5/8.0 (2.5)\n",
      "Epoch 111/200 | Loss 0.0015 | Win/lose count 18.5/4.0 (14.5)\n",
      "Epoch 112/200 | Loss 0.0049 | Win/lose count 13.5/1.0 (12.5)\n",
      "Epoch 113/200 | Loss 0.0031 | Win/lose count 12.5/2.0 (10.5)\n",
      "Epoch 114/200 | Loss 0.0500 | Win/lose count 12.5/4.0 (8.5)\n",
      "Epoch 115/200 | Loss 0.0018 | Win/lose count 8.0/2.0 (6.0)\n",
      "Epoch 116/200 | Loss 0.0022 | Win/lose count 7.0/2.0 (5.0)\n",
      "Epoch 117/200 | Loss 0.0032 | Win/lose count 18.0/2.0 (16.0)\n",
      "Epoch 118/200 | Loss 0.0020 | Win/lose count 12.0/2.0 (10.0)\n",
      "Epoch 119/200 | Loss 0.0017 | Win/lose count 18.0/5.0 (13.0)\n",
      "Epoch 120/200 | Loss 0.0016 | Win/lose count 4.5/1.0 (3.5)\n",
      "Epoch 121/200 | Loss 0.0494 | Win/lose count 2.5/0 (2.5)\n",
      "Epoch 122/200 | Loss 0.0050 | Win/lose count 11.5/1.0 (10.5)\n",
      "Epoch 123/200 | Loss 0.0029 | Win/lose count 9.0/2.0 (7.0)\n",
      "Epoch 124/200 | Loss 0.0028 | Win/lose count 28.0/5.0 (23.0)\n",
      "Epoch 125/200 | Loss 0.0017 | Win/lose count 13.5/1.0 (12.5)\n",
      "Epoch 126/200 | Loss 0.0014 | Win/lose count 28.5/5.0 (23.5)\n",
      "Epoch 127/200 | Loss 0.0515 | Win/lose count 14.5/4.0 (10.5)\n",
      "Epoch 128/200 | Loss 0.0025 | Win/lose count 20.5/1.0 (19.5)\n",
      "Epoch 129/200 | Loss 0.0017 | Win/lose count 13.0/1.0 (12.0)\n",
      "Epoch 130/200 | Loss 0.0045 | Win/lose count 17.0/2.0 (15.0)\n",
      "Epoch 131/200 | Loss 0.0043 | Win/lose count 12.5/4.0 (8.5)\n",
      "Epoch 132/200 | Loss 0.0963 | Win/lose count 14.0/2.0 (12.0)\n",
      "Epoch 133/200 | Loss 0.0022 | Win/lose count 16.5/4.0 (12.5)\n",
      "Epoch 134/200 | Loss 0.0027 | Win/lose count 20.0/4.0 (16.0)\n",
      "Epoch 135/200 | Loss 0.0024 | Win/lose count 12.5/2.0 (10.5)\n",
      "Epoch 136/200 | Loss 0.0024 | Win/lose count 21.0/4.0 (17.0)\n",
      "Epoch 137/200 | Loss 0.0027 | Win/lose count 7.5/2.0 (5.5)\n",
      "Epoch 138/200 | Loss 0.0091 | Win/lose count 22.5/2.0 (20.5)\n",
      "Epoch 139/200 | Loss 0.0030 | Win/lose count 16.0/1.0 (15.0)\n",
      "Epoch 140/200 | Loss 0.0039 | Win/lose count 21.5/5.0 (16.5)\n",
      "Epoch 141/200 | Loss 0.0035 | Win/lose count 20.0/2.0 (18.0)\n",
      "Epoch 142/200 | Loss 0.0017 | Win/lose count 16.0/4.0 (12.0)\n",
      "Epoch 143/200 | Loss 0.0030 | Win/lose count 28.5/4.0 (24.5)\n",
      "Epoch 144/200 | Loss 0.0497 | Win/lose count 9.0/4.0 (5.0)\n",
      "Epoch 145/200 | Loss 0.0034 | Win/lose count 21.0/2.0 (19.0)\n",
      "Epoch 146/200 | Loss 0.0534 | Win/lose count 22.0/2.0 (20.0)\n",
      "Epoch 147/200 | Loss 0.0030 | Win/lose count 10.0/6.0 (4.0)\n",
      "Epoch 148/200 | Loss 0.0425 | Win/lose count 22.5/2.0 (20.5)\n",
      "Epoch 149/200 | Loss 0.0023 | Win/lose count 23.0/3.0 (20.0)\n",
      "Epoch 150/200 | Loss 0.0228 | Win/lose count 17.5/4.0 (13.5)\n",
      "Epoch 151/200 | Loss 0.0509 | Win/lose count 16.5/2.0 (14.5)\n",
      "Epoch 152/200 | Loss 0.0029 | Win/lose count 7.5/1.0 (6.5)\n",
      "Epoch 153/200 | Loss 0.0589 | Win/lose count 15.5/1.0 (14.5)\n",
      "Epoch 154/200 | Loss 0.0008 | Win/lose count 14.0/2.0 (12.0)\n",
      "Epoch 155/200 | Loss 0.0013 | Win/lose count 28.0/5.0 (23.0)\n",
      "Epoch 156/200 | Loss 0.0035 | Win/lose count 6.0/0 (6.0)\n",
      "Epoch 157/200 | Loss 0.0029 | Win/lose count 18.0/0 (18.0)\n",
      "Epoch 158/200 | Loss 0.0009 | Win/lose count 15.0/1.0 (14.0)\n",
      "Epoch 159/200 | Loss 0.0020 | Win/lose count 14.5/2.0 (12.5)\n",
      "Epoch 160/200 | Loss 0.0022 | Win/lose count 11.5/4.0 (7.5)\n",
      "Epoch 161/200 | Loss 0.0026 | Win/lose count 26.0/7.0 (19.0)\n",
      "Epoch 162/200 | Loss 0.0027 | Win/lose count 23.0/5.0 (18.0)\n",
      "Epoch 163/200 | Loss 0.0022 | Win/lose count 15.5/3.0 (12.5)\n",
      "Epoch 164/200 | Loss 0.0027 | Win/lose count 14.5/3.0 (11.5)\n",
      "Epoch 165/200 | Loss 0.0538 | Win/lose count 20.0/2.0 (18.0)\n",
      "Epoch 166/200 | Loss 0.0010 | Win/lose count 19.5/2.0 (17.5)\n",
      "Epoch 167/200 | Loss 0.0020 | Win/lose count 24.5/2.0 (22.5)\n",
      "Epoch 168/200 | Loss 0.0551 | Win/lose count 13.0/4.0 (9.0)\n",
      "Epoch 169/200 | Loss 0.0016 | Win/lose count 16.5/4.0 (12.5)\n",
      "Epoch 170/200 | Loss 0.0072 | Win/lose count 8.0/4.0 (4.0)\n",
      "Epoch 171/200 | Loss 0.0022 | Win/lose count 16.0/4.0 (12.0)\n",
      "Epoch 172/200 | Loss 0.0014 | Win/lose count 12.5/3.0 (9.5)\n",
      "Epoch 173/200 | Loss 0.0023 | Win/lose count 21.5/2.0 (19.5)\n",
      "Epoch 174/200 | Loss 0.0013 | Win/lose count 16.0/1.0 (15.0)\n",
      "Epoch 175/200 | Loss 0.0424 | Win/lose count 10.5/2.0 (8.5)\n",
      "Epoch 176/200 | Loss 0.0022 | Win/lose count 22.0/2.0 (20.0)\n",
      "Epoch 177/200 | Loss 0.0016 | Win/lose count 22.0/3.0 (19.0)\n",
      "Epoch 178/200 | Loss 0.0475 | Win/lose count 19.0/4.0 (15.0)\n",
      "Epoch 179/200 | Loss 0.0017 | Win/lose count 21.0/5.0 (16.0)\n",
      "Epoch 180/200 | Loss 0.0024 | Win/lose count 18.0/2.0 (16.0)\n",
      "Epoch 181/200 | Loss 0.0037 | Win/lose count 20.0/4.0 (16.0)\n",
      "Epoch 182/200 | Loss 0.0544 | Win/lose count 24.0/5.0 (19.0)\n",
      "Epoch 183/200 | Loss 0.0028 | Win/lose count 19.0/2.0 (17.0)\n",
      "Epoch 184/200 | Loss 0.0020 | Win/lose count 19.5/3.0 (16.5)\n",
      "Epoch 185/200 | Loss 0.0035 | Win/lose count 15.0/2.0 (13.0)\n",
      "Epoch 186/200 | Loss 0.0031 | Win/lose count 23.5/1.0 (22.5)\n",
      "Epoch 187/200 | Loss 0.0070 | Win/lose count 17.5/0 (17.5)\n",
      "Epoch 188/200 | Loss 0.0027 | Win/lose count 20.5/3.0 (17.5)\n",
      "Epoch 189/200 | Loss 0.0020 | Win/lose count 13.5/2.0 (11.5)\n",
      "Epoch 190/200 | Loss 0.0018 | Win/lose count 11.0/4.0 (7.0)\n",
      "Epoch 191/200 | Loss 0.0024 | Win/lose count 16.5/3.0 (13.5)\n",
      "Epoch 192/200 | Loss 0.0015 | Win/lose count 16.5/4.0 (12.5)\n",
      "Epoch 193/200 | Loss 0.0031 | Win/lose count 23.5/5.0 (18.5)\n",
      "Epoch 194/200 | Loss 0.0039 | Win/lose count 15.5/2.0 (13.5)\n",
      "Epoch 195/200 | Loss 0.0026 | Win/lose count 21.0/3.0 (18.0)\n",
      "Epoch 196/200 | Loss 0.0028 | Win/lose count 24.0/5.0 (19.0)\n",
      "Epoch 197/200 | Loss 0.0010 | Win/lose count 12.5/2.0 (10.5)\n",
      "Epoch 198/200 | Loss 0.0018 | Win/lose count 17.5/2.0 (15.5)\n",
      "Epoch 199/200 | Loss 0.0012 | Win/lose count 18.0/4.0 (14.0)\n"
     ]
    }
   ],
   "source": [
    "env = Environment(grid_size=size, max_time=T, temperature=0.3)\n",
    "agent = DQN_CNN(size, lr=.1, epsilon = 0.1, memory_size=2000, batch_size = 32)\n",
    "train(agent,env,200,prefix='cnn_train')"
   ]
  },
  {
   "cell_type": "markdown",
   "metadata": {
    "colab_type": "text",
    "id": "4PUWWF_DQ5ZA"
   },
   "source": [
    "***\n",
    "***\n",
    "__Question 9__ Test both algorithms and compare their performances. Which issue(s) do you observe? Observe also different behaviors by changing the temperature."
   ]
  },
  {
   "cell_type": "markdown",
   "metadata": {
    "colab_type": "text",
    "id": "uNlOXUxTNkvW"
   },
   "source": [
    "#### Temperature : 0.3"
   ]
  },
  {
   "cell_type": "code",
   "execution_count": 0,
   "metadata": {
    "colab": {
     "base_uri": "https://localhost:8080/",
     "height": 443
    },
    "colab_type": "code",
    "id": "vqMmUBuRLfS8",
    "outputId": "7c10c673-9c25-485b-f746-0ad92164f196"
   },
   "outputs": [
    {
     "name": "stdout",
     "output_type": "stream",
     "text": [
      "Test of the CNN\n",
      "Win/lose count 7.5/0. Average score (7.5)\n",
      "Win/lose count 20.0/0. Average score (13.75)\n",
      "Win/lose count 24.0/0. Average score (17.166666666666668)\n",
      "Win/lose count 8.5/0. Average score (15.0)\n",
      "Win/lose count 11.0/0. Average score (14.2)\n",
      "Win/lose count 11.0/1.0. Average score (13.5)\n",
      "Win/lose count 6.5/0. Average score (12.5)\n",
      "Win/lose count 7.0/0. Average score (11.8125)\n",
      "Win/lose count 7.5/0. Average score (11.333333333333334)\n",
      "Win/lose count 5.5/0. Average score (10.75)\n",
      "Final score: 10.75\n",
      "Test of the FC\n",
      "Win/lose count 10.5/0. Average score (10.5)\n",
      "Win/lose count 6.0/0. Average score (8.25)\n",
      "Win/lose count 3.5/0. Average score (6.666666666666667)\n",
      "Win/lose count 7.0/0. Average score (6.75)\n",
      "Win/lose count 5.5/1.0. Average score (6.3)\n",
      "Win/lose count 8.0/0. Average score (6.583333333333333)\n",
      "Win/lose count 0.5/0. Average score (5.714285714285714)\n",
      "Win/lose count 4.0/0. Average score (5.5)\n",
      "Win/lose count 7.5/0. Average score (5.722222222222222)\n",
      "Win/lose count 5.5/0. Average score (5.7)\n",
      "Final score: 5.7\n"
     ]
    }
   ],
   "source": [
    "env = Environment(grid_size=size, max_time=T,temperature=0.3)\n",
    "\n",
    "agent_cnn = DQN_CNN(size, lr=.1, epsilon = 0.1, memory_size=2000, batch_size = 32)\n",
    "agent_cnn.load(name_weights='cnn_trainmodel.h5',name_model='cnn_trainmodel.json')\n",
    "\n",
    "agent_fc = DQN_FC(size, lr=.1, epsilon = 0.1, memory_size=2000, batch_size = 32)\n",
    "agent_fc.load(name_weights='fc_trainmodel.h5',name_model='fc_trainmodel.json')\n",
    "\n",
    "print('Test of the CNN')\n",
    "test(agent_cnn,env,epochs_test,prefix='cnn_test')\n",
    "print('Test of the FC')\n",
    "test(agent_fc,env,epochs_test,prefix='fc_test')"
   ]
  },
  {
   "cell_type": "markdown",
   "metadata": {
    "colab_type": "text",
    "id": "f32IBV-kQ5ZG"
   },
   "source": [
    "####Température : 0.1"
   ]
  },
  {
   "cell_type": "code",
   "execution_count": 0,
   "metadata": {
    "colab": {
     "base_uri": "https://localhost:8080/",
     "height": 443
    },
    "colab_type": "code",
    "id": "H5GL_QOeNruT",
    "outputId": "551e0d6c-4b75-4ed9-9164-7cbc69a0633d"
   },
   "outputs": [
    {
     "name": "stdout",
     "output_type": "stream",
     "text": [
      "Test of the CNN\n",
      "Win/lose count 0/0. Average score (0.0)\n",
      "Win/lose count 3.5/0. Average score (1.75)\n",
      "Win/lose count 6.5/0. Average score (3.3333333333333335)\n",
      "Win/lose count 1.5/0. Average score (2.875)\n",
      "Win/lose count 1.5/0. Average score (2.6)\n",
      "Win/lose count 4.0/0. Average score (2.8333333333333335)\n",
      "Win/lose count 1.5/0. Average score (2.642857142857143)\n",
      "Win/lose count 5.0/0. Average score (2.9375)\n",
      "Win/lose count 1.5/0. Average score (2.7777777777777777)\n",
      "Win/lose count 3.0/0. Average score (2.8)\n",
      "Final score: 2.8\n",
      "Test of the FC\n",
      "Win/lose count 1.5/1.0. Average score (0.5)\n",
      "Win/lose count 0.5/0. Average score (0.5)\n",
      "Win/lose count 0/0. Average score (0.3333333333333333)\n",
      "Win/lose count 1.0/0. Average score (0.5)\n",
      "Win/lose count 0.5/0. Average score (0.5)\n",
      "Win/lose count 2.5/0. Average score (0.8333333333333334)\n",
      "Win/lose count 2.5/0. Average score (1.0714285714285714)\n",
      "Win/lose count 2.0/0. Average score (1.1875)\n",
      "Win/lose count 1.0/0. Average score (1.1666666666666667)\n",
      "Win/lose count 1.0/0. Average score (1.15)\n",
      "Final score: 1.15\n"
     ]
    }
   ],
   "source": [
    "env = Environment(grid_size=size, max_time=T,temperature=0.1)\n",
    "agent_cnn = DQN_CNN(size, lr=.1, epsilon = 0.1, memory_size=2000, batch_size = 32)\n",
    "agent_cnn.load(name_weights='cnn_trainmodel.h5',name_model='cnn_trainmodel.json')\n",
    "\n",
    "agent_fc = DQN_FC(size, lr=.1, epsilon = 0.1, memory_size=2000, batch_size = 32)\n",
    "agent_fc.load(name_weights='fc_trainmodel.h5',name_model='fc_trainmodel.json')\n",
    "\n",
    "print('Test of the CNN')\n",
    "test(agent_cnn,env,epochs_test,prefix='cnn_test')\n",
    "print('Test of the FC')\n",
    "test(agent_fc,env,epochs_test,prefix='fc_test')"
   ]
  },
  {
   "cell_type": "markdown",
   "metadata": {
    "colab_type": "text",
    "id": "_KfdpShqN110"
   },
   "source": [
    "####Température : 0.6"
   ]
  },
  {
   "cell_type": "code",
   "execution_count": 0,
   "metadata": {
    "colab": {
     "base_uri": "https://localhost:8080/",
     "height": 443
    },
    "colab_type": "code",
    "id": "Hc4AbzHVN4Ub",
    "outputId": "d4c381dd-cb74-45db-80c1-1fec7565f89d"
   },
   "outputs": [
    {
     "name": "stdout",
     "output_type": "stream",
     "text": [
      "Test of the CNN\n",
      "Win/lose count 24.0/1.0. Average score (23.0)\n",
      "Win/lose count 49.5/1.0. Average score (35.75)\n",
      "Win/lose count 48.5/1.0. Average score (39.666666666666664)\n",
      "Win/lose count 5.5/0. Average score (31.125)\n",
      "Win/lose count 33.0/1.0. Average score (31.3)\n",
      "Win/lose count 28.5/0. Average score (30.833333333333332)\n",
      "Win/lose count 40.5/1.0. Average score (32.07142857142857)\n",
      "Win/lose count 2.0/0. Average score (28.3125)\n",
      "Win/lose count 15.0/0. Average score (26.833333333333332)\n",
      "Win/lose count 38.0/2.0. Average score (27.75)\n",
      "Final score: 27.75\n",
      "Test of the FC\n",
      "Win/lose count 23.0/0. Average score (23.0)\n",
      "Win/lose count 15.5/0. Average score (19.25)\n",
      "Win/lose count 3.5/0. Average score (14.0)\n",
      "Win/lose count 22.5/1.0. Average score (15.875)\n",
      "Win/lose count 6.5/0. Average score (14.0)\n",
      "Win/lose count 13.0/1.0. Average score (13.666666666666666)\n",
      "Win/lose count 25.0/1.0. Average score (15.142857142857142)\n",
      "Win/lose count 47.5/2.0. Average score (18.9375)\n",
      "Win/lose count 21.5/0. Average score (19.22222222222222)\n",
      "Win/lose count 12.5/0. Average score (18.55)\n",
      "Final score: 18.55\n"
     ]
    }
   ],
   "source": [
    "env = Environment(grid_size=size, max_time=T,temperature=0.6)\n",
    "agent_cnn = DQN_CNN(size, lr=.1, epsilon = 0.1, memory_size=2000, batch_size = 32)\n",
    "agent_cnn.load(name_weights='cnn_trainmodel.h5',name_model='cnn_trainmodel.json')\n",
    "\n",
    "agent_fc = DQN_FC(size, lr=.1, epsilon = 0.1, memory_size=2000, batch_size = 32)\n",
    "agent_fc.load(name_weights='fc_trainmodel.h5',name_model='fc_trainmodel.json')\n",
    "\n",
    "print('Test of the CNN')\n",
    "test(agent_cnn,env,epochs_test,prefix='cnn_test')\n",
    "print('Test of the FC')\n",
    "test(agent_fc,env,epochs_test,prefix='fc_test')"
   ]
  },
  {
   "cell_type": "markdown",
   "metadata": {
    "colab_type": "text",
    "id": "EGWgNwDkPIjJ"
   },
   "source": [
    "We can imply from the previous analysis that:\n",
    "-\tCNN performs better than the fully connected layers.\n",
    "-\tWith higher temperatures, the agent learns more and faster in both cases (CNN and FC) but performance between the two models gets bigger.\n",
    "-\tThe agent tends to enter infinite loop of actions, and would benefit to add a short time memory for the agent where it takes a random action when in that situation."
   ]
  },
  {
   "cell_type": "markdown",
   "metadata": {
    "colab_type": "text",
    "id": "ZQcz1mxBQ5ZG"
   },
   "source": [
    "***\n",
    "\n",
    "The algorithm tends to not explore the map which can be an issue. We propose two ideas in order to encourage exploration:\n",
    "1. Incorporating a decreasing $\\epsilon$-greedy exploration. You can use the method ```set_epsilon```\n",
    "2. Append via the environment a new state that describes if a cell has been visited or not\n",
    "\n",
    "***\n",
    "__Question 10__ Design a new ```train_explore``` function and environment class ```EnvironmentExploring``` to tackle the issue of exploration.\n",
    "\n"
   ]
  },
  {
   "cell_type": "code",
   "execution_count": 0,
   "metadata": {
    "colab": {},
    "colab_type": "code",
    "id": "aOG8wj_IQ5ZH"
   },
   "outputs": [],
   "source": [
    "def train_explore(agent,env,epoch,prefix='',eps_decay=0.1, verbose=True, plot=False):\n",
    "    score = 0\n",
    "    loss = 0\n",
    "    scores, wins, losses = [], [], []\n",
    "\n",
    "    for e in range(epoch):\n",
    "        # At each epoch, we restart to a fresh game and get the initial state\n",
    "        state = env.reset()\n",
    "        # This assumes that the games will terminate\n",
    "        game_over = False\n",
    "\n",
    "        win = 0\n",
    "        lose = 0\n",
    "        agent.set_epsilon(agent.epsilon*(1-eps_decay))\n",
    "\n",
    "        while not game_over:\n",
    "            # The agent performs an action\n",
    "            action = agent.act(state)\n",
    "\n",
    "            # Apply an action to the environment, get the next state, the reward\n",
    "            # and if the games end\n",
    "            prev_state = state\n",
    "            state, reward, game_over = env.act(action, train=True)\n",
    "\n",
    "            # Update the counters\n",
    "            if reward > 0:\n",
    "                win = win + reward\n",
    "            if reward < 0:\n",
    "                lose = lose -reward\n",
    "\n",
    "            # Apply the reinforcement strategy\n",
    "            loss = agent.reinforce(prev_state, state,  action, reward, game_over)\n",
    "\n",
    "        # Save as a mp4\n",
    "        if e % 10 == 0:\n",
    "            env.draw(prefix+str(e))\n",
    "\n",
    "        # Update stats\n",
    "        score += win-lose\n",
    "        scores.append(score)\n",
    "        wins.append(win)\n",
    "        losses.append(lose)\n",
    "\n",
    "        if verbose : \n",
    "          print(\"Epoch {:03d}/{:03d} | Loss {:.4f} | Win/lose count {}/{} ({})\"\n",
    "                .format(e, epoch, loss, win, lose, win-lose))\n",
    "        agent.save(name_weights=prefix+'model.h5',name_model=prefix+'model.json')\n",
    "\n",
    "    if plot : \n",
    "      plt.plot(wins, label=\"wins\")\n",
    "      plt.plot(losses, label=\"losses\")\n",
    "      plt.xlabel(\"Epoch\")\n",
    "      plt.legend()\n",
    "      plt.grid()\n",
    "\n",
    "\n",
    "class EnvironmentExploring(object):\n",
    "    def __init__(self, grid_size=10, max_time=500, temperature=0.1):\n",
    "        grid_size = grid_size+4\n",
    "        self.grid_size = grid_size\n",
    "        self.max_time = max_time\n",
    "        self.temperature = temperature\n",
    "\n",
    "        #board on which one plays\n",
    "        self.board = np.zeros((grid_size,grid_size))\n",
    "        self.position = np.zeros((grid_size,grid_size))\n",
    "        \n",
    "        #board with previously visited cells\n",
    "        self.malus_position = np.zeros((grid_size,grid_size))\n",
    "\n",
    "        # coordinate of the cat\n",
    "        self.x = 0\n",
    "        self.y = 1\n",
    "\n",
    "        # self time\n",
    "        self.t = 0\n",
    "\n",
    "        self.scale=16\n",
    "\n",
    "        self.to_draw = np.zeros((max_time+2, grid_size*self.scale, grid_size*self.scale, 3))\n",
    "\n",
    "\n",
    "    def draw(self,e):\n",
    "        skvideo.io.vwrite(str(e) + '.mp4', self.to_draw)\n",
    "\n",
    "    def get_frame(self,t):\n",
    "        b = np.zeros((self.grid_size,self.grid_size,3))+128\n",
    "        b[self.board>0,0] = 256\n",
    "        b[self.board < 0, 2] = 256\n",
    "        b[self.x,self.y,:]=256\n",
    "        b[-2:,:,:]=0\n",
    "        b[:,-2:,:]=0\n",
    "        b[:2,:,:]=0\n",
    "        b[:,:2,:]=0\n",
    "        \n",
    "        b =  cv2.resize(b, None, fx=self.scale, fy=self.scale, interpolation=cv2.INTER_NEAREST)\n",
    "\n",
    "        self.to_draw[t,:,:,:]=b\n",
    "\n",
    "\n",
    "    def act(self, action, train=False):\n",
    "        \"\"\"This function returns the new state, reward and decides if the\n",
    "        game ends.\"\"\"\n",
    "\n",
    "        self.get_frame(int(self.t))\n",
    "\n",
    "        self.position = np.zeros((self.grid_size, self.grid_size))\n",
    "\n",
    "        self.position[0:2,:]= -1\n",
    "        self.position[:,0:2] = -1\n",
    "        self.position[-2:, :] = -1\n",
    "        self.position[-2:, :] = -1\n",
    "\n",
    "        self.position[self.x, self.y] = 1\n",
    "        if action == 0:\n",
    "            if self.x == self.grid_size-3:\n",
    "                self.x = self.x-1\n",
    "            else:\n",
    "                self.x = self.x + 1\n",
    "        elif action == 1:\n",
    "            if self.x == 2:\n",
    "                self.x = self.x+1\n",
    "            else:\n",
    "                self.x = self.x-1\n",
    "        elif action == 2:\n",
    "            if self.y == self.grid_size - 3:\n",
    "                self.y = self.y - 1\n",
    "            else:\n",
    "                self.y = self.y + 1\n",
    "        elif action == 3:\n",
    "            if self.y == 2:\n",
    "                self.y = self.y + 1\n",
    "            else:\n",
    "                self.y = self.y - 1\n",
    "        else:\n",
    "            RuntimeError('Error: action not recognized')\n",
    "\n",
    "        self.t = self.t + 1\n",
    "\n",
    "        reward = 0\n",
    "        if train:\n",
    "            reward = -self.malus_position[self.x, self.y]\n",
    "        self.malus_position[self.x, self.y] = 0.1\n",
    "        reward = reward + self.board[self.x, self.y]\n",
    "\n",
    "        self.board[self.x, self.y] = 0\n",
    "        \n",
    "        game_over = self.t > self.max_time\n",
    "        state = np.concatenate((self.malus_position.reshape(self.grid_size, self.grid_size,1),\n",
    "                                self.board.reshape(self.grid_size, self.grid_size,1),\n",
    "                        self.position.reshape(self.grid_size, self.grid_size,1)),axis=2)\n",
    "        state = state[self.x-2:self.x+3,self.y-2:self.y+3,:]\n",
    "\n",
    "        return state, reward, game_over\n",
    "\n",
    "    def reset(self):\n",
    "        \"\"\"This function resets the game and returns the initial state\"\"\"\n",
    "\n",
    "        self.x = np.random.randint(3, self.grid_size-3, size=1)[0]\n",
    "        self.y = np.random.randint(3, self.grid_size-3, size=1)[0]\n",
    "\n",
    "\n",
    "        bonus = 0.5*np.random.binomial(1,self.temperature,size=self.grid_size**2)\n",
    "        bonus = bonus.reshape(self.grid_size,self.grid_size)\n",
    "\n",
    "        malus = -1.0*np.random.binomial(1,self.temperature,size=self.grid_size**2)\n",
    "        malus = malus.reshape(self.grid_size, self.grid_size)\n",
    "\n",
    "        self.to_draw = np.zeros((self.max_time+2, self.grid_size*self.scale, self.grid_size*self.scale, 3))\n",
    "\n",
    "\n",
    "        malus[bonus>0]=0\n",
    "\n",
    "        self.board = bonus + malus\n",
    "\n",
    "        self.position = np.zeros((self.grid_size, self.grid_size))\n",
    "        self.position[0:2,:]= -1\n",
    "        self.position[:,0:2] = -1\n",
    "        self.position[-2:, :] = -1\n",
    "        self.position[-2:, :] = -1\n",
    "        self.board[self.x,self.y] = 0\n",
    "        self.t = 0\n",
    "        self.malus_position = np.zeros((self.grid_size, self.grid_size))\n",
    "        \n",
    "        state = np.concatenate((self.malus_position.reshape(self.grid_size, self.grid_size,1),\n",
    "                                        self.board.reshape(self.grid_size, self.grid_size,1),\n",
    "                                self.position.reshape(self.grid_size, self.grid_size,1)),axis=2)\n",
    "\n",
    "        state = state[self.x - 2:self.x + 3, self.y - 2:self.y + 3, :]\n",
    "        return state"
   ]
  },
  {
   "cell_type": "markdown",
   "metadata": {
    "colab_type": "text",
    "id": "GfS_chk_gppX"
   },
   "source": [
    "We want to ensure more exploration during the first phase of the training, which is why the initial value for  ϵ  is increased. The  ```eps_decay``` parameter will gradually decrease its value, switching the strategy to a more exploitation strategy."
   ]
  },
  {
   "cell_type": "code",
   "execution_count": 65,
   "metadata": {
    "colab": {
     "base_uri": "https://localhost:8080/",
     "height": 1000
    },
    "colab_type": "code",
    "id": "5P1HlM9nQ5ZI",
    "outputId": "74e0275d-7777-4d79-9f2f-9db2017189c5"
   },
   "outputs": [
    {
     "name": "stdout",
     "output_type": "stream",
     "text": [
      "Epoch 000/200 | Loss 0.0072 | Win/lose count 7.0/24.30000000000009 (-17.30000000000009)\n",
      "Epoch 001/200 | Loss 0.0084 | Win/lose count 10.0/19.90000000000002 (-9.90000000000002)\n",
      "Epoch 002/200 | Loss 0.0103 | Win/lose count 7.5/20.100000000000023 (-12.600000000000023)\n",
      "Epoch 003/200 | Loss 0.0040 | Win/lose count 5.0/20.90000000000003 (-15.90000000000003)\n",
      "Epoch 004/200 | Loss 0.0024 | Win/lose count 3.5/20.200000000000017 (-16.700000000000017)\n",
      "Epoch 005/200 | Loss 0.0048 | Win/lose count 12.0/16.19999999999996 (-4.19999999999996)\n",
      "Epoch 006/200 | Loss 0.0091 | Win/lose count 8.5/16.599999999999966 (-8.099999999999966)\n",
      "Epoch 007/200 | Loss 0.0076 | Win/lose count 6.0/18.099999999999987 (-12.099999999999987)\n",
      "Epoch 008/200 | Loss 0.0049 | Win/lose count 9.5/16.899999999999974 (-7.399999999999974)\n",
      "Epoch 009/200 | Loss 0.0085 | Win/lose count 12.0/15.69999999999996 (-3.69999999999996)\n",
      "Epoch 010/200 | Loss 0.0054 | Win/lose count 10.5/15.59999999999996 (-5.099999999999961)\n",
      "Epoch 011/200 | Loss 0.0130 | Win/lose count 7.0/17.59999999999998 (-10.59999999999998)\n",
      "Epoch 012/200 | Loss 0.0282 | Win/lose count 13.5/16.899999999999977 (-3.3999999999999773)\n",
      "Epoch 013/200 | Loss 0.0252 | Win/lose count 13.0/15.399999999999961 (-2.3999999999999613)\n",
      "Epoch 014/200 | Loss 0.0039 | Win/lose count 5.5/17.799999999999983 (-12.299999999999983)\n",
      "Epoch 015/200 | Loss 0.0088 | Win/lose count 20.0/15.499999999999972 (4.500000000000028)\n",
      "Epoch 016/200 | Loss 0.0037 | Win/lose count 11.5/18.099999999999973 (-6.599999999999973)\n",
      "Epoch 017/200 | Loss 0.0187 | Win/lose count 21.5/16.699999999999978 (4.800000000000022)\n",
      "Epoch 018/200 | Loss 0.0087 | Win/lose count 13.0/14.999999999999963 (-1.9999999999999627)\n",
      "Epoch 019/200 | Loss 0.0077 | Win/lose count 20.0/11.299999999999976 (8.700000000000024)\n",
      "Epoch 020/200 | Loss 0.0070 | Win/lose count 9.5/17.499999999999982 (-7.999999999999982)\n",
      "Epoch 021/200 | Loss 0.0048 | Win/lose count 16.0/12.299999999999972 (3.7000000000000277)\n",
      "Epoch 022/200 | Loss 0.0073 | Win/lose count 13.0/14.799999999999967 (-1.799999999999967)\n",
      "Epoch 023/200 | Loss 0.0054 | Win/lose count 23.5/11.299999999999976 (12.200000000000024)\n",
      "Epoch 024/200 | Loss 0.0703 | Win/lose count 16.5/14.799999999999967 (1.700000000000033)\n",
      "Epoch 025/200 | Loss 0.0081 | Win/lose count 10.0/15.79999999999996 (-5.79999999999996)\n",
      "Epoch 026/200 | Loss 0.0152 | Win/lose count 17.5/14.599999999999975 (2.9000000000000252)\n",
      "Epoch 027/200 | Loss 0.0039 | Win/lose count 14.0/16.59999999999997 (-2.5999999999999694)\n",
      "Epoch 028/200 | Loss 0.0057 | Win/lose count 20.5/15.599999999999964 (4.900000000000036)\n",
      "Epoch 029/200 | Loss 0.0048 | Win/lose count 20.0/11.599999999999977 (8.400000000000023)\n",
      "Epoch 030/200 | Loss 0.0379 | Win/lose count 12.5/17.29999999999997 (-4.799999999999969)\n",
      "Epoch 031/200 | Loss 0.0300 | Win/lose count 17.0/15.99999999999997 (1.0000000000000302)\n",
      "Epoch 032/200 | Loss 0.0077 | Win/lose count 11.0/15.099999999999962 (-4.099999999999962)\n",
      "Epoch 033/200 | Loss 0.0101 | Win/lose count 24.5/11.699999999999978 (12.800000000000022)\n",
      "Epoch 034/200 | Loss 0.0068 | Win/lose count 22.0/13.499999999999968 (8.500000000000032)\n",
      "Epoch 035/200 | Loss 0.0067 | Win/lose count 19.0/12.999999999999977 (6.000000000000023)\n",
      "Epoch 036/200 | Loss 0.0314 | Win/lose count 14.0/15.099999999999962 (-1.0999999999999623)\n",
      "Epoch 037/200 | Loss 0.0064 | Win/lose count 28.0/11.399999999999975 (16.600000000000023)\n",
      "Epoch 038/200 | Loss 0.0055 | Win/lose count 23.5/7.799999999999988 (15.700000000000012)\n",
      "Epoch 039/200 | Loss 0.0176 | Win/lose count 12.0/16.699999999999967 (-4.699999999999967)\n",
      "Epoch 040/200 | Loss 0.0091 | Win/lose count 20.0/12.599999999999975 (7.400000000000025)\n",
      "Epoch 041/200 | Loss 0.0069 | Win/lose count 23.0/10.699999999999982 (12.300000000000018)\n",
      "Epoch 042/200 | Loss 0.0098 | Win/lose count 19.0/10.499999999999979 (8.500000000000021)\n",
      "Epoch 043/200 | Loss 0.0125 | Win/lose count 22.0/13.499999999999972 (8.500000000000028)\n",
      "Epoch 044/200 | Loss 0.0186 | Win/lose count 21.0/12.899999999999975 (8.100000000000025)\n",
      "Epoch 045/200 | Loss 0.0161 | Win/lose count 17.5/13.59999999999997 (3.9000000000000306)\n",
      "Epoch 046/200 | Loss 0.0103 | Win/lose count 15.0/13.299999999999972 (1.7000000000000277)\n",
      "Epoch 047/200 | Loss 0.0193 | Win/lose count 18.0/14.899999999999965 (3.100000000000035)\n",
      "Epoch 048/200 | Loss 0.0087 | Win/lose count 26.0/16.799999999999983 (9.200000000000017)\n",
      "Epoch 049/200 | Loss 0.0239 | Win/lose count 21.0/12.19999999999997 (8.80000000000003)\n",
      "Epoch 050/200 | Loss 0.0112 | Win/lose count 24.0/11.899999999999974 (12.100000000000026)\n",
      "Epoch 051/200 | Loss 0.0171 | Win/lose count 17.5/12.89999999999997 (4.60000000000003)\n",
      "Epoch 052/200 | Loss 0.0129 | Win/lose count 25.5/12.099999999999975 (13.400000000000025)\n",
      "Epoch 053/200 | Loss 0.0107 | Win/lose count 13.0/13.699999999999967 (-0.6999999999999673)\n",
      "Epoch 054/200 | Loss 0.0489 | Win/lose count 27.5/12.999999999999977 (14.500000000000023)\n",
      "Epoch 055/200 | Loss 0.0097 | Win/lose count 14.0/15.59999999999996 (-1.5999999999999606)\n",
      "Epoch 056/200 | Loss 0.0261 | Win/lose count 18.5/13.799999999999969 (4.700000000000031)\n",
      "Epoch 057/200 | Loss 0.0186 | Win/lose count 27.5/14.89999999999997 (12.60000000000003)\n",
      "Epoch 058/200 | Loss 0.0164 | Win/lose count 19.5/15.89999999999997 (3.60000000000003)\n",
      "Epoch 059/200 | Loss 0.0204 | Win/lose count 25.0/11.09999999999998 (13.90000000000002)\n",
      "Epoch 060/200 | Loss 0.0066 | Win/lose count 17.5/14.299999999999972 (3.2000000000000277)\n",
      "Epoch 061/200 | Loss 0.0441 | Win/lose count 17.5/16.499999999999964 (1.0000000000000355)\n",
      "Epoch 062/200 | Loss 0.0140 | Win/lose count 16.0/15.69999999999996 (0.3000000000000398)\n",
      "Epoch 063/200 | Loss 0.0455 | Win/lose count 20.5/11.099999999999977 (9.400000000000023)\n",
      "Epoch 064/200 | Loss 0.0124 | Win/lose count 25.0/9.89999999999998 (15.10000000000002)\n",
      "Epoch 065/200 | Loss 0.0162 | Win/lose count 24.0/10.999999999999977 (13.000000000000023)\n",
      "Epoch 066/200 | Loss 0.0140 | Win/lose count 22.0/18.50000000000001 (3.4999999999999893)\n",
      "Epoch 067/200 | Loss 0.0153 | Win/lose count 21.0/13.599999999999968 (7.400000000000032)\n",
      "Epoch 068/200 | Loss 0.0355 | Win/lose count 26.5/8.599999999999985 (17.900000000000013)\n",
      "Epoch 069/200 | Loss 0.0090 | Win/lose count 19.5/11.499999999999979 (8.000000000000021)\n",
      "Epoch 070/200 | Loss 0.0094 | Win/lose count 15.5/13.999999999999966 (1.5000000000000338)\n",
      "Epoch 071/200 | Loss 0.0067 | Win/lose count 23.5/11.799999999999974 (11.700000000000026)\n",
      "Epoch 072/200 | Loss 0.0163 | Win/lose count 4.5/18.099999999999987 (-13.599999999999987)\n",
      "Epoch 073/200 | Loss 0.0144 | Win/lose count 28.5/10.599999999999978 (17.90000000000002)\n",
      "Epoch 074/200 | Loss 0.0041 | Win/lose count 19.5/13.799999999999969 (5.700000000000031)\n",
      "Epoch 075/200 | Loss 0.0155 | Win/lose count 14.5/17.999999999999996 (-3.4999999999999964)\n",
      "Epoch 076/200 | Loss 0.0140 | Win/lose count 14.0/15.399999999999961 (-1.3999999999999613)\n",
      "Epoch 077/200 | Loss 0.0452 | Win/lose count 14.0/15.899999999999963 (-1.899999999999963)\n",
      "Epoch 078/200 | Loss 0.0090 | Win/lose count 22.0/11.199999999999976 (10.800000000000024)\n",
      "Epoch 079/200 | Loss 0.0122 | Win/lose count 25.0/10.799999999999976 (14.200000000000024)\n",
      "Epoch 080/200 | Loss 0.0101 | Win/lose count 24.0/15.299999999999976 (8.700000000000024)\n",
      "Epoch 081/200 | Loss 0.0095 | Win/lose count 20.0/14.199999999999966 (5.8000000000000345)\n",
      "Epoch 082/200 | Loss 0.0141 | Win/lose count 11.5/15.099999999999962 (-3.5999999999999623)\n",
      "Epoch 083/200 | Loss 0.0107 | Win/lose count 6.0/18.299999999999994 (-12.299999999999994)\n",
      "Epoch 084/200 | Loss 0.0196 | Win/lose count 18.0/14.599999999999964 (3.400000000000036)\n",
      "Epoch 085/200 | Loss 0.0135 | Win/lose count 25.5/15.599999999999971 (9.900000000000029)\n",
      "Epoch 086/200 | Loss 0.0139 | Win/lose count 11.5/13.799999999999967 (-2.299999999999967)\n",
      "Epoch 087/200 | Loss 0.0359 | Win/lose count 18.5/13.19999999999997 (5.300000000000029)\n",
      "Epoch 088/200 | Loss 0.0141 | Win/lose count 24.5/10.89999999999998 (13.60000000000002)\n",
      "Epoch 089/200 | Loss 0.0339 | Win/lose count 23.0/11.999999999999973 (11.000000000000027)\n",
      "Epoch 090/200 | Loss 0.0171 | Win/lose count 20.0/12.499999999999972 (7.500000000000028)\n",
      "Epoch 091/200 | Loss 0.0152 | Win/lose count 21.5/12.999999999999973 (8.500000000000027)\n",
      "Epoch 092/200 | Loss 0.0237 | Win/lose count 19.5/14.299999999999965 (5.200000000000035)\n",
      "Epoch 093/200 | Loss 0.0164 | Win/lose count 11.0/16.899999999999974 (-5.899999999999974)\n",
      "Epoch 094/200 | Loss 0.0178 | Win/lose count 11.0/15.299999999999962 (-4.299999999999962)\n",
      "Epoch 095/200 | Loss 0.0453 | Win/lose count 14.5/15.69999999999996 (-1.1999999999999602)\n",
      "Epoch 096/200 | Loss 0.0195 | Win/lose count 20.0/12.099999999999973 (7.900000000000027)\n",
      "Epoch 097/200 | Loss 0.0181 | Win/lose count 15.5/16.599999999999977 (-1.0999999999999766)\n",
      "Epoch 098/200 | Loss 0.0164 | Win/lose count 16.5/13.999999999999966 (2.5000000000000338)\n",
      "Epoch 099/200 | Loss 0.0182 | Win/lose count 15.0/14.899999999999967 (0.1000000000000334)\n",
      "Epoch 100/200 | Loss 0.0132 | Win/lose count 17.0/15.19999999999996 (1.8000000000000398)\n",
      "Epoch 101/200 | Loss 0.0201 | Win/lose count 21.5/13.09999999999998 (8.40000000000002)\n",
      "Epoch 102/200 | Loss 0.0154 | Win/lose count 25.0/19.900000000000034 (5.099999999999966)\n",
      "Epoch 103/200 | Loss 0.0162 | Win/lose count 22.5/10.999999999999979 (11.500000000000021)\n",
      "Epoch 104/200 | Loss 0.0240 | Win/lose count 21.5/11.599999999999982 (9.900000000000018)\n",
      "Epoch 105/200 | Loss 0.0145 | Win/lose count 23.5/11.999999999999973 (11.500000000000027)\n",
      "Epoch 106/200 | Loss 0.0512 | Win/lose count 11.0/14.399999999999967 (-3.3999999999999666)\n",
      "Epoch 107/200 | Loss 0.0222 | Win/lose count 23.0/12.09999999999998 (10.90000000000002)\n",
      "Epoch 108/200 | Loss 0.0059 | Win/lose count 22.5/11.699999999999976 (10.800000000000024)\n",
      "Epoch 109/200 | Loss 0.0147 | Win/lose count 15.0/12.89999999999997 (2.10000000000003)\n",
      "Epoch 110/200 | Loss 0.0085 | Win/lose count 19.0/12.199999999999973 (6.800000000000027)\n",
      "Epoch 111/200 | Loss 0.0137 | Win/lose count 19.0/14.899999999999975 (4.1000000000000245)\n",
      "Epoch 112/200 | Loss 0.0273 | Win/lose count 24.0/12.599999999999977 (11.400000000000023)\n",
      "Epoch 113/200 | Loss 0.0214 | Win/lose count 25.5/10.899999999999983 (14.600000000000017)\n",
      "Epoch 114/200 | Loss 0.0210 | Win/lose count 19.0/15.799999999999969 (3.2000000000000313)\n",
      "Epoch 115/200 | Loss 0.0182 | Win/lose count 21.5/13.59999999999997 (7.9000000000000306)\n",
      "Epoch 116/200 | Loss 0.0148 | Win/lose count 17.0/13.199999999999969 (3.800000000000031)\n",
      "Epoch 117/200 | Loss 0.0135 | Win/lose count 21.5/10.99999999999998 (10.50000000000002)\n",
      "Epoch 118/200 | Loss 0.0125 | Win/lose count 26.5/12.699999999999976 (13.800000000000024)\n",
      "Epoch 119/200 | Loss 0.0323 | Win/lose count 21.5/12.699999999999978 (8.800000000000022)\n",
      "Epoch 120/200 | Loss 0.0178 | Win/lose count 14.5/16.499999999999968 (-1.999999999999968)\n",
      "Epoch 121/200 | Loss 0.0420 | Win/lose count 14.0/16.399999999999963 (-2.399999999999963)\n",
      "Epoch 122/200 | Loss 0.0378 | Win/lose count 24.5/12.199999999999983 (12.300000000000017)\n",
      "Epoch 123/200 | Loss 0.0298 | Win/lose count 24.5/14.199999999999978 (10.300000000000022)\n",
      "Epoch 124/200 | Loss 0.0304 | Win/lose count 13.0/16.299999999999965 (-3.299999999999965)\n",
      "Epoch 125/200 | Loss 0.0219 | Win/lose count 15.5/14.199999999999967 (1.3000000000000327)\n",
      "Epoch 126/200 | Loss 0.0407 | Win/lose count 28.0/12.799999999999976 (15.200000000000024)\n",
      "Epoch 127/200 | Loss 0.0233 | Win/lose count 11.5/16.499999999999968 (-4.999999999999968)\n",
      "Epoch 128/200 | Loss 0.0306 | Win/lose count 20.5/14.99999999999997 (5.50000000000003)\n",
      "Epoch 129/200 | Loss 0.0231 | Win/lose count 25.0/12.89999999999998 (12.10000000000002)\n",
      "Epoch 130/200 | Loss 0.0178 | Win/lose count 20.0/11.199999999999976 (8.800000000000024)\n",
      "Epoch 131/200 | Loss 0.0212 | Win/lose count 23.0/14.999999999999972 (8.000000000000028)\n",
      "Epoch 132/200 | Loss 0.0247 | Win/lose count 21.5/12.79999999999997 (8.70000000000003)\n",
      "Epoch 133/200 | Loss 0.0179 | Win/lose count 10.5/19.100000000000012 (-8.600000000000012)\n",
      "Epoch 134/200 | Loss 0.0112 | Win/lose count 14.0/16.399999999999963 (-2.399999999999963)\n",
      "Epoch 135/200 | Loss 0.0370 | Win/lose count 21.0/15.49999999999997 (5.50000000000003)\n",
      "Epoch 136/200 | Loss 0.0389 | Win/lose count 24.5/9.599999999999984 (14.900000000000016)\n",
      "Epoch 137/200 | Loss 0.0160 | Win/lose count 11.5/14.899999999999965 (-3.399999999999965)\n",
      "Epoch 138/200 | Loss 0.0331 | Win/lose count 21.0/12.199999999999976 (8.800000000000024)\n",
      "Epoch 139/200 | Loss 0.0318 | Win/lose count 15.5/14.899999999999967 (0.6000000000000334)\n",
      "Epoch 140/200 | Loss 0.0193 | Win/lose count 23.5/12.799999999999978 (10.700000000000022)\n",
      "Epoch 141/200 | Loss 0.0173 | Win/lose count 16.5/16.199999999999974 (0.3000000000000256)\n",
      "Epoch 142/200 | Loss 0.0172 | Win/lose count 22.0/11.699999999999974 (10.300000000000026)\n",
      "Epoch 143/200 | Loss 0.0242 | Win/lose count 19.0/15.099999999999966 (3.900000000000034)\n",
      "Epoch 144/200 | Loss 0.0177 | Win/lose count 18.5/13.599999999999971 (4.900000000000029)\n",
      "Epoch 145/200 | Loss 0.0154 | Win/lose count 24.5/11.799999999999978 (12.700000000000022)\n",
      "Epoch 146/200 | Loss 0.0126 | Win/lose count 15.5/14.699999999999974 (0.8000000000000256)\n",
      "Epoch 147/200 | Loss 0.0403 | Win/lose count 25.5/12.299999999999983 (13.200000000000017)\n",
      "Epoch 148/200 | Loss 0.0240 | Win/lose count 22.0/18.900000000000023 (3.0999999999999766)\n",
      "Epoch 149/200 | Loss 0.0122 | Win/lose count 23.0/16.099999999999973 (6.900000000000027)\n",
      "Epoch 150/200 | Loss 0.0353 | Win/lose count 8.5/18.400000000000002 (-9.900000000000002)\n",
      "Epoch 151/200 | Loss 0.0153 | Win/lose count 22.0/9.599999999999982 (12.400000000000018)\n",
      "Epoch 152/200 | Loss 0.0187 | Win/lose count 8.5/16.29999999999996 (-7.799999999999962)\n",
      "Epoch 153/200 | Loss 0.0247 | Win/lose count 18.5/14.099999999999966 (4.400000000000034)\n",
      "Epoch 154/200 | Loss 0.0166 | Win/lose count 20.5/14.59999999999997 (5.9000000000000306)\n",
      "Epoch 155/200 | Loss 0.0197 | Win/lose count 15.0/15.199999999999966 (-0.19999999999996554)\n",
      "Epoch 156/200 | Loss 0.0192 | Win/lose count 17.5/13.599999999999968 (3.9000000000000323)\n",
      "Epoch 157/200 | Loss 0.0229 | Win/lose count 14.5/15.199999999999966 (-0.6999999999999655)\n",
      "Epoch 158/200 | Loss 0.0054 | Win/lose count 26.5/10.499999999999984 (16.000000000000014)\n",
      "Epoch 159/200 | Loss 0.0287 | Win/lose count 12.5/15.199999999999962 (-2.699999999999962)\n",
      "Epoch 160/200 | Loss 0.0140 | Win/lose count 17.0/15.699999999999964 (1.3000000000000362)\n",
      "Epoch 161/200 | Loss 0.0098 | Win/lose count 12.0/18.599999999999994 (-6.599999999999994)\n",
      "Epoch 162/200 | Loss 0.0358 | Win/lose count 19.5/13.599999999999968 (5.900000000000032)\n",
      "Epoch 163/200 | Loss 0.0094 | Win/lose count 18.0/12.199999999999973 (5.800000000000027)\n",
      "Epoch 164/200 | Loss 0.0188 | Win/lose count 14.0/17.49999999999998 (-3.4999999999999787)\n",
      "Epoch 165/200 | Loss 0.0322 | Win/lose count 7.5/17.999999999999975 (-10.499999999999975)\n",
      "Epoch 166/200 | Loss 0.0260 | Win/lose count 15.5/11.199999999999976 (4.300000000000024)\n",
      "Epoch 167/200 | Loss 0.0126 | Win/lose count 15.5/13.999999999999966 (1.5000000000000338)\n",
      "Epoch 168/200 | Loss 0.0238 | Win/lose count 22.5/15.29999999999998 (7.200000000000021)\n",
      "Epoch 169/200 | Loss 0.0137 | Win/lose count 22.0/12.499999999999975 (9.500000000000025)\n",
      "Epoch 170/200 | Loss 0.0131 | Win/lose count 17.5/13.599999999999971 (3.9000000000000288)\n",
      "Epoch 171/200 | Loss 0.0079 | Win/lose count 19.5/11.399999999999975 (8.100000000000025)\n",
      "Epoch 172/200 | Loss 0.0216 | Win/lose count 23.5/14.399999999999967 (9.100000000000033)\n",
      "Epoch 173/200 | Loss 0.0201 | Win/lose count 18.5/13.599999999999968 (4.900000000000032)\n",
      "Epoch 174/200 | Loss 0.0330 | Win/lose count 14.5/16.499999999999968 (-1.999999999999968)\n",
      "Epoch 175/200 | Loss 0.0149 | Win/lose count 13.5/14.799999999999965 (-1.2999999999999652)\n",
      "Epoch 176/200 | Loss 0.0227 | Win/lose count 17.5/12.69999999999997 (4.800000000000029)\n",
      "Epoch 177/200 | Loss 0.0215 | Win/lose count 20.5/17.8 (2.6999999999999993)\n",
      "Epoch 178/200 | Loss 0.0471 | Win/lose count 26.5/14.499999999999982 (12.000000000000018)\n",
      "Epoch 179/200 | Loss 0.0443 | Win/lose count 24.0/11.499999999999982 (12.500000000000018)\n",
      "Epoch 180/200 | Loss 0.0247 | Win/lose count 21.5/14.599999999999971 (6.900000000000029)\n",
      "Epoch 181/200 | Loss 0.0199 | Win/lose count 7.0/14.999999999999963 (-7.999999999999963)\n",
      "Epoch 182/200 | Loss 0.0253 | Win/lose count 16.0/13.999999999999966 (2.0000000000000338)\n",
      "Epoch 183/200 | Loss 0.0342 | Win/lose count 12.0/16.899999999999974 (-4.899999999999974)\n",
      "Epoch 184/200 | Loss 0.0133 | Win/lose count 18.0/14.299999999999969 (3.7000000000000313)\n",
      "Epoch 185/200 | Loss 0.0110 | Win/lose count 12.5/16.19999999999996 (-3.69999999999996)\n",
      "Epoch 186/200 | Loss 0.0200 | Win/lose count 8.5/16.599999999999966 (-8.099999999999966)\n",
      "Epoch 187/200 | Loss 0.0146 | Win/lose count 12.5/17.099999999999973 (-4.599999999999973)\n",
      "Epoch 188/200 | Loss 0.0132 | Win/lose count 19.0/14.999999999999966 (4.000000000000034)\n",
      "Epoch 189/200 | Loss 0.0153 | Win/lose count 12.5/14.799999999999963 (-2.2999999999999634)\n",
      "Epoch 190/200 | Loss 0.0152 | Win/lose count 8.5/16.89999999999997 (-8.39999999999997)\n",
      "Epoch 191/200 | Loss 0.0255 | Win/lose count 20.0/13.99999999999997 (6.00000000000003)\n",
      "Epoch 192/200 | Loss 0.0302 | Win/lose count 19.5/13.799999999999967 (5.700000000000033)\n",
      "Epoch 193/200 | Loss 0.0101 | Win/lose count 23.5/16.79999999999998 (6.700000000000021)\n",
      "Epoch 194/200 | Loss 0.0149 | Win/lose count 21.0/13.699999999999969 (7.300000000000031)\n",
      "Epoch 195/200 | Loss 0.0085 | Win/lose count 21.5/13.999999999999977 (7.500000000000023)\n",
      "Epoch 196/200 | Loss 0.0139 | Win/lose count 27.5/14.49999999999998 (13.00000000000002)\n",
      "Epoch 197/200 | Loss 0.0148 | Win/lose count 25.0/14.999999999999972 (10.000000000000028)\n",
      "Epoch 198/200 | Loss 0.0133 | Win/lose count 23.0/14.899999999999968 (8.100000000000032)\n",
      "Epoch 199/200 | Loss 0.0086 | Win/lose count 21.5/11.299999999999976 (10.200000000000024)\n"
     ]
    },
    {
     "data": {
      "text/html": [
       "<video alt=\"test\" controls>\n",
       "                <source src=\"data:video/mp4;base64,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\" type=\"video/mp4\" />\n",
       "             </video>"
      ],
      "text/plain": [
       "<IPython.core.display.HTML object>"
      ]
     },
     "execution_count": 65,
     "metadata": {
      "tags": []
     },
     "output_type": "execute_result"
    },
    {
     "data": {
      "image/png": "[encoded data removed]",
      "text/plain": [
       "<Figure size 1080x504 with 1 Axes>"
      ]
     },
     "metadata": {
      "tags": []
     },
     "output_type": "display_data"
    }
   ],
   "source": [
    "# Training\n",
    "env = EnvironmentExploring(grid_size=size, max_time=T, temperature=0.3)\n",
    "agent = DQN_CNN(size, lr=.1, epsilon = 0.1, memory_size=2000, batch_size = 32,n_state=3)\n",
    "train_explore(agent, env, 200, prefix='cnn_train_explore' , plot=True)\n",
    "HTML(display_videos('cnn_train_explore10.mp4'))"
   ]
  },
  {
   "cell_type": "code",
   "execution_count": 0,
   "metadata": {
    "colab": {
     "base_uri": "https://localhost:8080/",
     "height": 755
    },
    "colab_type": "code",
    "id": "UeGf4m6xQ5ZM",
    "outputId": "aa9d8962-d9f7-4d5a-cb58-5db012bb27d0"
   },
   "outputs": [
    {
     "name": "stdout",
     "output_type": "stream",
     "text": [
      "Win/lose count 20.0/1.0. Average score (19.0)\n",
      "Win/lose count 12.5/1.0. Average score (15.25)\n",
      "Win/lose count 13.5/1.0. Average score (14.333333333333334)\n",
      "Win/lose count 22.5/1.0. Average score (16.125)\n",
      "Win/lose count 29.5/2.0. Average score (18.4)\n",
      "Win/lose count 14.5/1.0. Average score (17.583333333333332)\n",
      "Win/lose count 21.5/1.0. Average score (18.0)\n",
      "Win/lose count 23.0/6.0. Average score (17.875)\n",
      "Win/lose count 2.5/2.0. Average score (15.944444444444445)\n",
      "Win/lose count 11.0/1.0. Average score (15.35)\n",
      "Win/lose count 13.5/3.0. Average score (14.909090909090908)\n",
      "Win/lose count 6.0/0. Average score (14.166666666666666)\n",
      "Win/lose count 4.0/1.0. Average score (13.307692307692308)\n",
      "Win/lose count 11.5/0. Average score (13.178571428571429)\n",
      "Win/lose count 17.0/2.0. Average score (13.3)\n",
      "Win/lose count 11.0/1.0. Average score (13.09375)\n",
      "Win/lose count 17.5/0. Average score (13.352941176470589)\n",
      "Win/lose count 24.0/1.0. Average score (13.88888888888889)\n",
      "Win/lose count 24.0/1.0. Average score (14.368421052631579)\n",
      "Win/lose count 21.0/2.0. Average score (14.6)\n",
      "Win/lose count 12.0/1.0. Average score (14.428571428571429)\n",
      "Win/lose count 17.0/1.0. Average score (14.5)\n",
      "Win/lose count 14.5/2.0. Average score (14.41304347826087)\n",
      "Win/lose count 21.5/1.0. Average score (14.666666666666666)\n",
      "Win/lose count 24.5/2.0. Average score (14.98)\n",
      "Final score: 14.98\n"
     ]
    },
    {
     "data": {
      "text/html": [
       "<video alt=\"test\" controls>\n",
       "                <source src=\"data:video/mp4;base64,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\" type=\"video/mp4\" />\n",
       "             </video>"
      ],
      "text/plain": [
       "<IPython.core.display.HTML object>"
      ]
     },
     "execution_count": 60,
     "metadata": {
      "tags": []
     },
     "output_type": "execute_result"
    }
   ],
   "source": [
    "# Evaluation\n",
    "test(agent,env,25,prefix='cnn_test_explore')\n",
    "HTML(display_videos('cnn_test_explore24.mp4'))"
   ]
  },
  {
   "cell_type": "markdown",
   "metadata": {
    "colab_type": "text",
    "id": "79z-NZWY0rzg"
   },
   "source": [
    "The results have clearly improved. The agent is now less likely to cycle between to cells, and recievs greater rewards overall."
   ]
  },
  {
   "cell_type": "markdown",
   "metadata": {
    "colab_type": "text",
    "id": "Wd2lcdz8Q5ZN"
   },
   "source": [
    "***\n",
    "***\n",
    "__BONUS question__ Use the expert DQN from the previous question to generate some winning games. Train a model that mimicks its behavior. Compare the performances."
   ]
  },
  {
   "cell_type": "markdown",
   "metadata": {
    "colab_type": "text",
    "id": "F-m1KEmEQ5ZO"
   },
   "source": []
  },
  {
   "cell_type": "markdown",
   "metadata": {
    "colab_type": "text",
    "id": "XuWqS6ylQ5ZO"
   },
   "source": [
    "***"
   ]
  }
 ],
 "metadata": {
  "accelerator": "GPU",
  "colab": {
   "collapsed_sections": [
    "94Zd1L_RQ5YB",
    "sE_cX8zkQ5YS",
    "Fe1OL-xeQ5Ye",
    "6jNwHyMYEWs7",
    "sBGETw1uSIfO",
    "tJkM2_nvSQQ_",
    "Ec-F3-GEPEjR",
    "ni6p-iAbDdsC",
    "f32IBV-kQ5ZG"
   ],
   "name": "DQN_project_MVA_ipynp.ipynb",
   "provenance": []
  },
  "kernelspec": {
   "display_name": "Python 3",
   "language": "python",
   "name": "python3"
  },
  "language_info": {
   "codemirror_mode": {
    "name": "ipython",
    "version": 3
   },
   "file_extension": ".py",
   "mimetype": "text/x-python",
   "name": "python",
   "nbconvert_exporter": "python",
   "pygments_lexer": "ipython3",
   "version": "3.7.4"
  }
 },
 "nbformat": 4,
 "nbformat_minor": 1
}
